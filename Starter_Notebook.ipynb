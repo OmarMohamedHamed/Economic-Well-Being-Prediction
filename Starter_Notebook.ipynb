{
 "cells": [
  {
   "cell_type": "markdown",
   "metadata": {},
   "source": [
    "# Starter Notebook: Economic Well-Being Prediction Challenge\n",
    "\n",
    "Welcome! This starter notebook is designed to get you started on this challenge, where you will be attempting to predict a measure of wealth for different locations across Africa. We will take a look at the data, create a model and then use that to make our first submission. After that we will briefly look at some ways to improve. Let's get started."
   ]
  },
  {
   "cell_type": "markdown",
   "metadata": {},
   "source": [
    "# Loading the Data\n",
    "\n",
    "We're using the pandas library to load the data into dataframes - a tabular data structure that is perfect for this kind of work. Each of the three CSV files from Zindi is loaded into a dataframe and we take a look at the shape of the data (number of rows and columns) as well as a preview of the first 5 rows to get a feel for what we're working with."
   ]
  },
  {
   "cell_type": "code",
   "execution_count": 1,
   "metadata": {},
   "outputs": [
    {
     "name": "stderr",
     "output_type": "stream",
     "text": [
      "Using TensorFlow backend.\n"
     ]
    }
   ],
   "source": [
    "import pandas as pd\n",
    "import matplotlib.pyplot as plt\n",
    "import numpy as np\n",
    "import seaborn as sns\n",
    "from sklearn.model_selection import train_test_split\n",
    "from keras.preprocessing.text import Tokenizer\n",
    "from keras.preprocessing.sequence import pad_sequences\n",
    "from keras.models import Sequential\n",
    "from keras.layers import Dense,SpatialDropout1D,Flatten\n",
    "from keras.initializers import Constant\n",
    "from keras.regularizers import l2\n",
    "from keras.optimizers import Adam\n",
    "%matplotlib inline\n",
    "plt.rcParams.update({'figure.figsize':(8,6), 'figure.dpi':100})"
   ]
  },
  {
   "cell_type": "code",
   "execution_count": 2,
   "metadata": {},
   "outputs": [
    {
     "name": "stdout",
     "output_type": "stream",
     "text": [
      "(21454, 19)\n"
     ]
    },
    {
     "data": {
      "text/html": [
       "<div>\n",
       "<style scoped>\n",
       "    .dataframe tbody tr th:only-of-type {\n",
       "        vertical-align: middle;\n",
       "    }\n",
       "\n",
       "    .dataframe tbody tr th {\n",
       "        vertical-align: top;\n",
       "    }\n",
       "\n",
       "    .dataframe thead th {\n",
       "        text-align: right;\n",
       "    }\n",
       "</style>\n",
       "<table border=\"1\" class=\"dataframe\">\n",
       "  <thead>\n",
       "    <tr style=\"text-align: right;\">\n",
       "      <th></th>\n",
       "      <th>ID</th>\n",
       "      <th>country</th>\n",
       "      <th>year</th>\n",
       "      <th>urban_or_rural</th>\n",
       "      <th>ghsl_water_surface</th>\n",
       "      <th>ghsl_built_pre_1975</th>\n",
       "      <th>ghsl_built_1975_to_1990</th>\n",
       "      <th>ghsl_built_1990_to_2000</th>\n",
       "      <th>ghsl_built_2000_to_2014</th>\n",
       "      <th>ghsl_not_built_up</th>\n",
       "      <th>ghsl_pop_density</th>\n",
       "      <th>landcover_crops_fraction</th>\n",
       "      <th>landcover_urban_fraction</th>\n",
       "      <th>landcover_water_permanent_10km_fraction</th>\n",
       "      <th>landcover_water_seasonal_10km_fraction</th>\n",
       "      <th>nighttime_lights</th>\n",
       "      <th>dist_to_capital</th>\n",
       "      <th>dist_to_shoreline</th>\n",
       "      <th>Target</th>\n",
       "    </tr>\n",
       "  </thead>\n",
       "  <tbody>\n",
       "    <tr>\n",
       "      <th>0</th>\n",
       "      <td>ID_AAIethGy</td>\n",
       "      <td>Ethiopia</td>\n",
       "      <td>2016</td>\n",
       "      <td>R</td>\n",
       "      <td>0.0</td>\n",
       "      <td>0.000000</td>\n",
       "      <td>0.000000</td>\n",
       "      <td>0.000055</td>\n",
       "      <td>0.000536</td>\n",
       "      <td>0.999408</td>\n",
       "      <td>12.146134</td>\n",
       "      <td>25.489659</td>\n",
       "      <td>0.879484</td>\n",
       "      <td>0.000000</td>\n",
       "      <td>0.000000</td>\n",
       "      <td>0.000000</td>\n",
       "      <td>278.788451</td>\n",
       "      <td>769.338378</td>\n",
       "      <td>0.132783</td>\n",
       "    </tr>\n",
       "    <tr>\n",
       "      <th>1</th>\n",
       "      <td>ID_AAYiaCeL</td>\n",
       "      <td>Ethiopia</td>\n",
       "      <td>2005</td>\n",
       "      <td>R</td>\n",
       "      <td>0.0</td>\n",
       "      <td>0.000000</td>\n",
       "      <td>0.000110</td>\n",
       "      <td>0.000000</td>\n",
       "      <td>0.000018</td>\n",
       "      <td>0.999872</td>\n",
       "      <td>113.806716</td>\n",
       "      <td>64.136053</td>\n",
       "      <td>0.601427</td>\n",
       "      <td>0.000000</td>\n",
       "      <td>0.005427</td>\n",
       "      <td>0.000000</td>\n",
       "      <td>200.986978</td>\n",
       "      <td>337.135243</td>\n",
       "      <td>0.004898</td>\n",
       "    </tr>\n",
       "    <tr>\n",
       "      <th>2</th>\n",
       "      <td>ID_AAdurmKj</td>\n",
       "      <td>Mozambique</td>\n",
       "      <td>2009</td>\n",
       "      <td>R</td>\n",
       "      <td>0.0</td>\n",
       "      <td>0.000000</td>\n",
       "      <td>0.000000</td>\n",
       "      <td>0.000000</td>\n",
       "      <td>0.000000</td>\n",
       "      <td>1.000000</td>\n",
       "      <td>0.000000</td>\n",
       "      <td>4.400096</td>\n",
       "      <td>0.131900</td>\n",
       "      <td>0.000000</td>\n",
       "      <td>0.003078</td>\n",
       "      <td>0.000000</td>\n",
       "      <td>642.594208</td>\n",
       "      <td>169.913773</td>\n",
       "      <td>0.097320</td>\n",
       "    </tr>\n",
       "    <tr>\n",
       "      <th>3</th>\n",
       "      <td>ID_AAgNHles</td>\n",
       "      <td>Malawi</td>\n",
       "      <td>2015</td>\n",
       "      <td>R</td>\n",
       "      <td>0.0</td>\n",
       "      <td>0.000141</td>\n",
       "      <td>0.000181</td>\n",
       "      <td>0.000254</td>\n",
       "      <td>0.000228</td>\n",
       "      <td>0.999195</td>\n",
       "      <td>5.213320</td>\n",
       "      <td>25.379371</td>\n",
       "      <td>2.017136</td>\n",
       "      <td>11.293841</td>\n",
       "      <td>0.131035</td>\n",
       "      <td>0.000000</td>\n",
       "      <td>365.349451</td>\n",
       "      <td>613.591610</td>\n",
       "      <td>0.304107</td>\n",
       "    </tr>\n",
       "    <tr>\n",
       "      <th>4</th>\n",
       "      <td>ID_AAishfND</td>\n",
       "      <td>Guinea</td>\n",
       "      <td>2012</td>\n",
       "      <td>U</td>\n",
       "      <td>0.0</td>\n",
       "      <td>0.011649</td>\n",
       "      <td>0.017560</td>\n",
       "      <td>0.017383</td>\n",
       "      <td>0.099875</td>\n",
       "      <td>0.853533</td>\n",
       "      <td>31.734661</td>\n",
       "      <td>5.081620</td>\n",
       "      <td>22.815984</td>\n",
       "      <td>0.005047</td>\n",
       "      <td>0.130475</td>\n",
       "      <td>1.461894</td>\n",
       "      <td>222.867189</td>\n",
       "      <td>192.926363</td>\n",
       "      <td>0.605328</td>\n",
       "    </tr>\n",
       "  </tbody>\n",
       "</table>\n",
       "</div>"
      ],
      "text/plain": [
       "            ID     country  year urban_or_rural  ghsl_water_surface  \\\n",
       "0  ID_AAIethGy    Ethiopia  2016              R                 0.0   \n",
       "1  ID_AAYiaCeL    Ethiopia  2005              R                 0.0   \n",
       "2  ID_AAdurmKj  Mozambique  2009              R                 0.0   \n",
       "3  ID_AAgNHles      Malawi  2015              R                 0.0   \n",
       "4  ID_AAishfND      Guinea  2012              U                 0.0   \n",
       "\n",
       "   ghsl_built_pre_1975  ghsl_built_1975_to_1990  ghsl_built_1990_to_2000  \\\n",
       "0             0.000000                 0.000000                 0.000055   \n",
       "1             0.000000                 0.000110                 0.000000   \n",
       "2             0.000000                 0.000000                 0.000000   \n",
       "3             0.000141                 0.000181                 0.000254   \n",
       "4             0.011649                 0.017560                 0.017383   \n",
       "\n",
       "   ghsl_built_2000_to_2014  ghsl_not_built_up  ghsl_pop_density  \\\n",
       "0                 0.000536           0.999408         12.146134   \n",
       "1                 0.000018           0.999872        113.806716   \n",
       "2                 0.000000           1.000000          0.000000   \n",
       "3                 0.000228           0.999195          5.213320   \n",
       "4                 0.099875           0.853533         31.734661   \n",
       "\n",
       "   landcover_crops_fraction  landcover_urban_fraction  \\\n",
       "0                 25.489659                  0.879484   \n",
       "1                 64.136053                  0.601427   \n",
       "2                  4.400096                  0.131900   \n",
       "3                 25.379371                  2.017136   \n",
       "4                  5.081620                 22.815984   \n",
       "\n",
       "   landcover_water_permanent_10km_fraction  \\\n",
       "0                                 0.000000   \n",
       "1                                 0.000000   \n",
       "2                                 0.000000   \n",
       "3                                11.293841   \n",
       "4                                 0.005047   \n",
       "\n",
       "   landcover_water_seasonal_10km_fraction  nighttime_lights  dist_to_capital  \\\n",
       "0                                0.000000          0.000000       278.788451   \n",
       "1                                0.005427          0.000000       200.986978   \n",
       "2                                0.003078          0.000000       642.594208   \n",
       "3                                0.131035          0.000000       365.349451   \n",
       "4                                0.130475          1.461894       222.867189   \n",
       "\n",
       "   dist_to_shoreline    Target  \n",
       "0         769.338378  0.132783  \n",
       "1         337.135243  0.004898  \n",
       "2         169.913773  0.097320  \n",
       "3         613.591610  0.304107  \n",
       "4         192.926363  0.605328  "
      ]
     },
     "execution_count": 2,
     "metadata": {},
     "output_type": "execute_result"
    }
   ],
   "source": [
    "train = pd.read_csv('Train.csv')\n",
    "print(train.shape)\n",
    "train.head()"
   ]
  },
  {
   "cell_type": "markdown",
   "metadata": {},
   "source": [
    "In train, we have a set of inputs (like 'urban_or_rural' or 'ghsl_water_surface') and our desired output variable, 'Target'. There are 21454 rows - lots of juicy data!"
   ]
  },
  {
   "cell_type": "code",
   "execution_count": 3,
   "metadata": {},
   "outputs": [
    {
     "name": "stdout",
     "output_type": "stream",
     "text": [
      "(7194, 18)\n"
     ]
    },
    {
     "data": {
      "text/html": [
       "<div>\n",
       "<style scoped>\n",
       "    .dataframe tbody tr th:only-of-type {\n",
       "        vertical-align: middle;\n",
       "    }\n",
       "\n",
       "    .dataframe tbody tr th {\n",
       "        vertical-align: top;\n",
       "    }\n",
       "\n",
       "    .dataframe thead th {\n",
       "        text-align: right;\n",
       "    }\n",
       "</style>\n",
       "<table border=\"1\" class=\"dataframe\">\n",
       "  <thead>\n",
       "    <tr style=\"text-align: right;\">\n",
       "      <th></th>\n",
       "      <th>ID</th>\n",
       "      <th>country</th>\n",
       "      <th>year</th>\n",
       "      <th>urban_or_rural</th>\n",
       "      <th>ghsl_water_surface</th>\n",
       "      <th>ghsl_built_pre_1975</th>\n",
       "      <th>ghsl_built_1975_to_1990</th>\n",
       "      <th>ghsl_built_1990_to_2000</th>\n",
       "      <th>ghsl_built_2000_to_2014</th>\n",
       "      <th>ghsl_not_built_up</th>\n",
       "      <th>ghsl_pop_density</th>\n",
       "      <th>landcover_crops_fraction</th>\n",
       "      <th>landcover_urban_fraction</th>\n",
       "      <th>landcover_water_permanent_10km_fraction</th>\n",
       "      <th>landcover_water_seasonal_10km_fraction</th>\n",
       "      <th>nighttime_lights</th>\n",
       "      <th>dist_to_capital</th>\n",
       "      <th>dist_to_shoreline</th>\n",
       "    </tr>\n",
       "  </thead>\n",
       "  <tbody>\n",
       "    <tr>\n",
       "      <th>0</th>\n",
       "      <td>ID_AAcismbB</td>\n",
       "      <td>Democratic Republic of Congo</td>\n",
       "      <td>2007</td>\n",
       "      <td>R</td>\n",
       "      <td>0.000000</td>\n",
       "      <td>0.000000</td>\n",
       "      <td>0.000000</td>\n",
       "      <td>0.000523</td>\n",
       "      <td>0.000131</td>\n",
       "      <td>0.999347</td>\n",
       "      <td>0.660758</td>\n",
       "      <td>0.990942</td>\n",
       "      <td>0.132264</td>\n",
       "      <td>0.069055</td>\n",
       "      <td>0.032627</td>\n",
       "      <td>0.000000</td>\n",
       "      <td>1249.294720</td>\n",
       "      <td>1364.592100</td>\n",
       "    </tr>\n",
       "    <tr>\n",
       "      <th>1</th>\n",
       "      <td>ID_AAeBMsji</td>\n",
       "      <td>Democratic Republic of Congo</td>\n",
       "      <td>2007</td>\n",
       "      <td>U</td>\n",
       "      <td>0.000000</td>\n",
       "      <td>0.004239</td>\n",
       "      <td>0.000238</td>\n",
       "      <td>0.001227</td>\n",
       "      <td>0.002860</td>\n",
       "      <td>0.991437</td>\n",
       "      <td>6.441547</td>\n",
       "      <td>5.461365</td>\n",
       "      <td>0.452400</td>\n",
       "      <td>0.000000</td>\n",
       "      <td>0.000000</td>\n",
       "      <td>0.000000</td>\n",
       "      <td>821.019579</td>\n",
       "      <td>1046.028681</td>\n",
       "    </tr>\n",
       "    <tr>\n",
       "      <th>2</th>\n",
       "      <td>ID_AAjFMjzy</td>\n",
       "      <td>Uganda</td>\n",
       "      <td>2011</td>\n",
       "      <td>U</td>\n",
       "      <td>0.007359</td>\n",
       "      <td>0.525682</td>\n",
       "      <td>0.132795</td>\n",
       "      <td>0.095416</td>\n",
       "      <td>0.042375</td>\n",
       "      <td>0.196373</td>\n",
       "      <td>587.516458</td>\n",
       "      <td>2.881811</td>\n",
       "      <td>87.387991</td>\n",
       "      <td>3.248483</td>\n",
       "      <td>3.950374</td>\n",
       "      <td>60.070041</td>\n",
       "      <td>3.620455</td>\n",
       "      <td>906.057334</td>\n",
       "    </tr>\n",
       "    <tr>\n",
       "      <th>3</th>\n",
       "      <td>ID_AAmMOEEC</td>\n",
       "      <td>Burkina Faso</td>\n",
       "      <td>2010</td>\n",
       "      <td>U</td>\n",
       "      <td>0.000000</td>\n",
       "      <td>0.000089</td>\n",
       "      <td>0.000036</td>\n",
       "      <td>0.001519</td>\n",
       "      <td>0.001358</td>\n",
       "      <td>0.996997</td>\n",
       "      <td>35.141762</td>\n",
       "      <td>33.878927</td>\n",
       "      <td>4.166437</td>\n",
       "      <td>0.000000</td>\n",
       "      <td>0.130727</td>\n",
       "      <td>1.333999</td>\n",
       "      <td>109.493969</td>\n",
       "      <td>775.139189</td>\n",
       "    </tr>\n",
       "    <tr>\n",
       "      <th>4</th>\n",
       "      <td>ID_ABguzDxp</td>\n",
       "      <td>Zambia</td>\n",
       "      <td>2007</td>\n",
       "      <td>R</td>\n",
       "      <td>0.000000</td>\n",
       "      <td>0.000138</td>\n",
       "      <td>0.000623</td>\n",
       "      <td>0.000615</td>\n",
       "      <td>0.002961</td>\n",
       "      <td>0.995663</td>\n",
       "      <td>3.442449</td>\n",
       "      <td>33.491994</td>\n",
       "      <td>3.437129</td>\n",
       "      <td>0.133563</td>\n",
       "      <td>0.128997</td>\n",
       "      <td>0.502203</td>\n",
       "      <td>133.643319</td>\n",
       "      <td>835.591501</td>\n",
       "    </tr>\n",
       "  </tbody>\n",
       "</table>\n",
       "</div>"
      ],
      "text/plain": [
       "            ID                       country  year urban_or_rural  \\\n",
       "0  ID_AAcismbB  Democratic Republic of Congo  2007              R   \n",
       "1  ID_AAeBMsji  Democratic Republic of Congo  2007              U   \n",
       "2  ID_AAjFMjzy                        Uganda  2011              U   \n",
       "3  ID_AAmMOEEC                  Burkina Faso  2010              U   \n",
       "4  ID_ABguzDxp                        Zambia  2007              R   \n",
       "\n",
       "   ghsl_water_surface  ghsl_built_pre_1975  ghsl_built_1975_to_1990  \\\n",
       "0            0.000000             0.000000                 0.000000   \n",
       "1            0.000000             0.004239                 0.000238   \n",
       "2            0.007359             0.525682                 0.132795   \n",
       "3            0.000000             0.000089                 0.000036   \n",
       "4            0.000000             0.000138                 0.000623   \n",
       "\n",
       "   ghsl_built_1990_to_2000  ghsl_built_2000_to_2014  ghsl_not_built_up  \\\n",
       "0                 0.000523                 0.000131           0.999347   \n",
       "1                 0.001227                 0.002860           0.991437   \n",
       "2                 0.095416                 0.042375           0.196373   \n",
       "3                 0.001519                 0.001358           0.996997   \n",
       "4                 0.000615                 0.002961           0.995663   \n",
       "\n",
       "   ghsl_pop_density  landcover_crops_fraction  landcover_urban_fraction  \\\n",
       "0          0.660758                  0.990942                  0.132264   \n",
       "1          6.441547                  5.461365                  0.452400   \n",
       "2        587.516458                  2.881811                 87.387991   \n",
       "3         35.141762                 33.878927                  4.166437   \n",
       "4          3.442449                 33.491994                  3.437129   \n",
       "\n",
       "   landcover_water_permanent_10km_fraction  \\\n",
       "0                                 0.069055   \n",
       "1                                 0.000000   \n",
       "2                                 3.248483   \n",
       "3                                 0.000000   \n",
       "4                                 0.133563   \n",
       "\n",
       "   landcover_water_seasonal_10km_fraction  nighttime_lights  dist_to_capital  \\\n",
       "0                                0.032627          0.000000      1249.294720   \n",
       "1                                0.000000          0.000000       821.019579   \n",
       "2                                3.950374         60.070041         3.620455   \n",
       "3                                0.130727          1.333999       109.493969   \n",
       "4                                0.128997          0.502203       133.643319   \n",
       "\n",
       "   dist_to_shoreline  \n",
       "0        1364.592100  \n",
       "1        1046.028681  \n",
       "2         906.057334  \n",
       "3         775.139189  \n",
       "4         835.591501  "
      ]
     },
     "execution_count": 3,
     "metadata": {},
     "output_type": "execute_result"
    }
   ],
   "source": [
    "test = pd.read_csv('Test.csv')\n",
    "print(test.shape)\n",
    "test.head()"
   ]
  },
  {
   "cell_type": "markdown",
   "metadata": {},
   "source": [
    "Test looks just like train but without the 'Target' column and with fewer rows."
   ]
  },
  {
   "cell_type": "code",
   "execution_count": 4,
   "metadata": {},
   "outputs": [
    {
     "name": "stdout",
     "output_type": "stream",
     "text": [
      "(7194, 2)\n"
     ]
    },
    {
     "data": {
      "text/html": [
       "<div>\n",
       "<style scoped>\n",
       "    .dataframe tbody tr th:only-of-type {\n",
       "        vertical-align: middle;\n",
       "    }\n",
       "\n",
       "    .dataframe tbody tr th {\n",
       "        vertical-align: top;\n",
       "    }\n",
       "\n",
       "    .dataframe thead th {\n",
       "        text-align: right;\n",
       "    }\n",
       "</style>\n",
       "<table border=\"1\" class=\"dataframe\">\n",
       "  <thead>\n",
       "    <tr style=\"text-align: right;\">\n",
       "      <th></th>\n",
       "      <th>ID</th>\n",
       "      <th>Target</th>\n",
       "    </tr>\n",
       "  </thead>\n",
       "  <tbody>\n",
       "    <tr>\n",
       "      <th>0</th>\n",
       "      <td>ID_AAcismbB</td>\n",
       "      <td>0</td>\n",
       "    </tr>\n",
       "    <tr>\n",
       "      <th>1</th>\n",
       "      <td>ID_AAeBMsji</td>\n",
       "      <td>0</td>\n",
       "    </tr>\n",
       "    <tr>\n",
       "      <th>2</th>\n",
       "      <td>ID_AAjFMjzy</td>\n",
       "      <td>0</td>\n",
       "    </tr>\n",
       "    <tr>\n",
       "      <th>3</th>\n",
       "      <td>ID_AAmMOEEC</td>\n",
       "      <td>0</td>\n",
       "    </tr>\n",
       "    <tr>\n",
       "      <th>4</th>\n",
       "      <td>ID_ABguzDxp</td>\n",
       "      <td>0</td>\n",
       "    </tr>\n",
       "  </tbody>\n",
       "</table>\n",
       "</div>"
      ],
      "text/plain": [
       "            ID  Target\n",
       "0  ID_AAcismbB       0\n",
       "1  ID_AAeBMsji       0\n",
       "2  ID_AAjFMjzy       0\n",
       "3  ID_AAmMOEEC       0\n",
       "4  ID_ABguzDxp       0"
      ]
     },
     "execution_count": 4,
     "metadata": {},
     "output_type": "execute_result"
    }
   ],
   "source": [
    "ss = pd.read_csv('SampleSubmission.csv')\n",
    "print(ss.shape)\n",
    "ss.head()"
   ]
  },
  {
   "cell_type": "markdown",
   "metadata": {},
   "source": [
    "The sample submission is just the ID column from test with a 'Target' column where we will put out predictions.\n",
    "\n",
    "Now that we have the data loaded, we can start exploring."
   ]
  },
  {
   "cell_type": "markdown",
   "metadata": {},
   "source": [
    "# EDA\n",
    "\n",
    "We will explore some trends in the data and look for any anomalies such as missing data. A few examples are done here but you can explore much further yourself and get to know the data better.\n",
    "\n",
    "First up: let's see how an input like 'nighttime lights' relates to the target column:"
   ]
  },
  {
   "cell_type": "code",
   "execution_count": 5,
   "metadata": {},
   "outputs": [
    {
     "data": {
      "text/plain": [
       "<matplotlib.figure.Figure at 0x1c19c3c90f0>"
      ]
     },
     "metadata": {},
     "output_type": "display_data"
    },
    {
     "data": {
      "image/png": "[encoded data removed]",
      "text/plain": [
       "<matplotlib.figure.Figure at 0x1c19c3c96d8>"
      ]
     },
     "metadata": {
      "needs_background": "light"
     },
     "output_type": "display_data"
    }
   ],
   "source": [
    "fig = plt.figure()\n",
    "fig, ax = plt.subplots(6, figsize=(5, 10))\n",
    "\n",
    "ax[0].scatter(x = train['nighttime_lights'], y = train['Target'])\n",
    "ax[0].set_xlabel('nighttime_lights')\n",
    "ax[0].set_ylabel('target')\n",
    "\n",
    "ax[1].scatter(x = train['ghsl_water_surface'], y = train['Target'])\n",
    "ax[1].set_xlabel('ghsl_water_surface')\n",
    "ax[1].set_ylabel(\"target\")\n",
    "\n",
    "ax[2].scatter(x = train['ghsl_pop_density'], y = train['Target'])\n",
    "ax[2].set_xlabel('dghsl_pop_density')\n",
    "ax[2].set_ylabel(\"target\")\n",
    "\n",
    "ax[3].scatter(x = train['ghsl_not_built_up'], y = train['Target'])\n",
    "ax[3].set_xlabel('ghsl_not_built_up')\n",
    "ax[3].set_ylabel(\"target\")\n",
    "\n",
    "ax[4].scatter(x = train['landcover_water_seasonal_10km_fraction'], y = train['Target'])\n",
    "ax[4].set_xlabel('landcover_water_seasonal_10km_fraction')\n",
    "ax[4].set_ylabel(\"target\")\n",
    "\n",
    "ax[5].scatter(x = train['landcover_water_permanent_10km_fraction'], y = train['Target'])\n",
    "ax[5].set_xlabel('landcover_water_permanent_10km_fraction')\n",
    "ax[5].set_ylabel(\"target\")\n",
    "\n",
    "\n",
    "plt.subplots_adjust(wspace=0.6,hspace=0.6)\n",
    "plt.show()"
   ]
  },
  {
   "cell_type": "code",
   "execution_count": 6,
   "metadata": {},
   "outputs": [
    {
     "name": "stdout",
     "output_type": "stream",
     "text": [
      "           year  ghsl_water_surface  ghsl_built_pre_1975  \\\n",
      "count  21454.00            21454.00             2.15e+04   \n",
      "mean    2010.06                0.03             3.82e-02   \n",
      "std        4.80                0.10             1.14e-01   \n",
      "min     1994.00                0.00             0.00e+00   \n",
      "25%     2008.00                0.00             0.00e+00   \n",
      "50%     2011.00                0.00             1.98e-04   \n",
      "75%     2014.00                0.00             7.99e-03   \n",
      "max     2016.00                0.97             8.77e-01   \n",
      "\n",
      "       ghsl_built_1975_to_1990  ghsl_built_1990_to_2000  \\\n",
      "count                 2.15e+04                 2.15e+04   \n",
      "mean                  2.86e-02                 1.27e-02   \n",
      "std                   7.74e-02                 3.27e-02   \n",
      "min                   0.00e+00                 0.00e+00   \n",
      "25%                   0.00e+00                 4.28e-05   \n",
      "50%                   7.09e-04                 1.00e-03   \n",
      "75%                   9.87e-03                 8.13e-03   \n",
      "max                   6.85e-01                 5.16e-01   \n",
      "\n",
      "       ghsl_built_2000_to_2014  ghsl_not_built_up  ghsl_pop_density  \\\n",
      "count                 2.15e+04           2.15e+04          21454.00   \n",
      "mean                  1.84e-02           8.74e-01             95.76   \n",
      "std                   4.04e-02           2.39e-01            209.70   \n",
      "min                   0.00e+00           8.59e-04              0.00   \n",
      "25%                   1.24e-04           8.98e-01              3.85   \n",
      "50%                   1.87e-03           9.92e-01             17.63   \n",
      "75%                   1.49e-02           1.00e+00             63.23   \n",
      "max                   6.49e-01           1.00e+00           1741.26   \n",
      "\n",
      "       landcover_crops_fraction  landcover_urban_fraction  \\\n",
      "count                  21454.00                  21454.00   \n",
      "mean                      21.03                     14.00   \n",
      "std                       16.75                     23.72   \n",
      "min                        0.00                      0.00   \n",
      "25%                        5.61                      0.80   \n",
      "50%                       18.51                      2.77   \n",
      "75%                       33.59                     12.62   \n",
      "max                       80.06                     98.78   \n",
      "\n",
      "       landcover_water_permanent_10km_fraction  \\\n",
      "count                                 2.15e+04   \n",
      "mean                                  1.49e+00   \n",
      "std                                   6.55e+00   \n",
      "min                                   0.00e+00   \n",
      "25%                                   0.00e+00   \n",
      "50%                                   5.16e-04   \n",
      "75%                                   1.52e-01   \n",
      "max                                   9.92e+01   \n",
      "\n",
      "       landcover_water_seasonal_10km_fraction  nighttime_lights  \\\n",
      "count                                2.15e+04          21454.00   \n",
      "mean                                 7.15e-01              8.51   \n",
      "std                                  2.38e+00             21.09   \n",
      "min                                  0.00e+00              0.00   \n",
      "25%                                  1.32e-03              0.00   \n",
      "50%                                  2.92e-02              0.14   \n",
      "75%                                  3.82e-01              4.83   \n",
      "max                                  5.62e+01            382.93   \n",
      "\n",
      "       dist_to_capital  dist_to_shoreline    Target  \n",
      "count         21454.00           21454.00  21454.00  \n",
      "mean            289.72             402.61      0.35  \n",
      "std             238.81             321.52      0.19  \n",
      "min               0.11               0.11      0.00  \n",
      "25%             115.89             126.38      0.20  \n",
      "50%             256.74             327.27      0.29  \n",
      "75%             401.15             643.91      0.50  \n",
      "max            1897.35            1769.52      1.00  \n"
     ]
    }
   ],
   "source": [
    "pd.set_option('precision', 2)\n",
    "print(train.describe())"
   ]
  },
  {
   "cell_type": "markdown",
   "metadata": {},
   "source": [
    "**Correlation between variables**"
   ]
  },
  {
   "cell_type": "code",
   "execution_count": 7,
   "metadata": {},
   "outputs": [
    {
     "data": {
      "image/png": "[encoded data removed]",
      "text/plain": [
       "<matplotlib.figure.Figure at 0x1c19c9944a8>"
      ]
     },
     "metadata": {
      "needs_background": "light"
     },
     "output_type": "display_data"
    }
   ],
   "source": [
    "plt.figure(figsize=(12,10))\n",
    "cor = train.corr()\n",
    "sns.heatmap(cor, annot=True, cmap=plt.cm.Reds)\n",
    "plt.show()"
   ]
  },
  {
   "cell_type": "code",
   "execution_count": 8,
   "metadata": {},
   "outputs": [
    {
     "data": {
      "text/plain": [
       "ghsl_built_1975_to_1990     0.50\n",
       "ghsl_not_built_up           0.58\n",
       "ghsl_pop_density            0.53\n",
       "landcover_urban_fraction    0.67\n",
       "nighttime_lights            0.55\n",
       "Target                      1.00\n",
       "Name: Target, dtype: float64"
      ]
     },
     "execution_count": 8,
     "metadata": {},
     "output_type": "execute_result"
    }
   ],
   "source": [
    "#Correlation with output variable\n",
    "cor_target = abs(cor[\"Target\"])\n",
    "#Selecting highly correlated features\n",
    "relevant_features = cor_target[cor_target>0.5]\n",
    "relevant_features"
   ]
  },
  {
   "cell_type": "code",
   "execution_count": 9,
   "metadata": {},
   "outputs": [
    {
     "name": "stdout",
     "output_type": "stream",
     "text": [
      "                         ghsl_built_1975_to_1990  ghsl_not_built_up\n",
      "ghsl_built_1975_to_1990                     1.00              -0.72\n",
      "ghsl_not_built_up                          -0.72               1.00\n",
      "                          ghsl_pop_density  landcover_urban_fraction\n",
      "ghsl_pop_density                      1.00                      0.86\n",
      "landcover_urban_fraction              0.86                      1.00\n",
      "                         ghsl_built_1975_to_1990  nighttime_lights\n",
      "ghsl_built_1975_to_1990                     1.00              0.73\n",
      "nighttime_lights                            0.73              1.00\n"
     ]
    }
   ],
   "source": [
    "print(train[[\"ghsl_built_1975_to_1990\",\"ghsl_not_built_up\"]].corr())\n",
    "print(train[[\"ghsl_pop_density\",\"landcover_urban_fraction\"]].corr())\n",
    "print(train[[\"ghsl_built_1975_to_1990\",\"nighttime_lights\"]].corr())"
   ]
  },
  {
   "cell_type": "markdown",
   "metadata": {},
   "source": [
    "**Check for outliers**"
   ]
  },
  {
   "cell_type": "code",
   "execution_count": 10,
   "metadata": {},
   "outputs": [],
   "source": [
    "def outliers_prop(feature):\n",
    "    Q1 = train[feature].quantile(0.25)\n",
    "    Q3 = train[feature].quantile(0.75)\n",
    "    IQR = Q3 - Q1\n",
    "\n",
    "    outliers_len = ((train[feature] < (Q1 - 1.5 * IQR)) | (train[feature] > (Q3 + 1.5 * IQR))).sum()\n",
    "\n",
    "    return outliers_len/len(train[feature])"
   ]
  },
  {
   "cell_type": "code",
   "execution_count": 11,
   "metadata": {},
   "outputs": [
    {
     "data": {
      "text/plain": [
       "<matplotlib.axes._subplots.AxesSubplot at 0x1c19d736898>"
      ]
     },
     "execution_count": 11,
     "metadata": {},
     "output_type": "execute_result"
    },
    {
     "data": {
      "image/png": "[encoded data removed]",
      "text/plain": [
       "<matplotlib.figure.Figure at 0x1c19d736748>"
      ]
     },
     "metadata": {
      "needs_background": "light"
     },
     "output_type": "display_data"
    }
   ],
   "source": [
    "plt.figure(figsize=(10,5))\n",
    "sns.boxplot(x=train['nighttime_lights'])"
   ]
  },
  {
   "cell_type": "code",
   "execution_count": 12,
   "metadata": {},
   "outputs": [
    {
     "name": "stdout",
     "output_type": "stream",
     "text": [
      "0.15964388925142164\n"
     ]
    }
   ],
   "source": [
    "print(outliers_prop('nighttime_lights'))"
   ]
  },
  {
   "cell_type": "code",
   "execution_count": 13,
   "metadata": {},
   "outputs": [
    {
     "data": {
      "text/plain": [
       "<matplotlib.axes._subplots.AxesSubplot at 0x1c19d8afe80>"
      ]
     },
     "execution_count": 13,
     "metadata": {},
     "output_type": "execute_result"
    },
    {
     "data": {
      "image/png": "[encoded data removed]",
      "text/plain": [
       "<matplotlib.figure.Figure at 0x1c19d86b160>"
      ]
     },
     "metadata": {
      "needs_background": "light"
     },
     "output_type": "display_data"
    }
   ],
   "source": [
    "plt.figure(figsize=(10,5))\n",
    "sns.boxplot(x=train['ghsl_built_1975_to_1990'])"
   ]
  },
  {
   "cell_type": "code",
   "execution_count": 14,
   "metadata": {},
   "outputs": [
    {
     "name": "stdout",
     "output_type": "stream",
     "text": [
      "0.18155122587862405\n"
     ]
    }
   ],
   "source": [
    "print(outliers_prop('ghsl_built_1975_to_1990'))"
   ]
  },
  {
   "cell_type": "code",
   "execution_count": 15,
   "metadata": {},
   "outputs": [
    {
     "data": {
      "text/plain": [
       "<matplotlib.axes._subplots.AxesSubplot at 0x1c19daf5518>"
      ]
     },
     "execution_count": 15,
     "metadata": {},
     "output_type": "execute_result"
    },
    {
     "data": {
      "image/png": "[encoded data removed]",
      "text/plain": [
       "<matplotlib.figure.Figure at 0x1c19daf5a58>"
      ]
     },
     "metadata": {
      "needs_background": "light"
     },
     "output_type": "display_data"
    }
   ],
   "source": [
    "plt.figure(figsize=(10,5))\n",
    "sns.boxplot(x=train['ghsl_pop_density'])"
   ]
  },
  {
   "cell_type": "code",
   "execution_count": 16,
   "metadata": {},
   "outputs": [
    {
     "name": "stdout",
     "output_type": "stream",
     "text": [
      "0.15698704204344177\n"
     ]
    }
   ],
   "source": [
    "print(outliers_prop('ghsl_pop_density'))"
   ]
  },
  {
   "cell_type": "code",
   "execution_count": 17,
   "metadata": {},
   "outputs": [
    {
     "data": {
      "text/plain": [
       "<matplotlib.axes._subplots.AxesSubplot at 0x1c19cf49e80>"
      ]
     },
     "execution_count": 17,
     "metadata": {},
     "output_type": "execute_result"
    },
    {
     "data": {
      "image/png": "[encoded data removed]",
      "text/plain": [
       "<matplotlib.figure.Figure at 0x1c19caa3748>"
      ]
     },
     "metadata": {
      "needs_background": "light"
     },
     "output_type": "display_data"
    }
   ],
   "source": [
    "plt.figure(figsize=(10,5))\n",
    "sns.boxplot(x=train['landcover_urban_fraction'])"
   ]
  },
  {
   "cell_type": "code",
   "execution_count": 18,
   "metadata": {},
   "outputs": [
    {
     "name": "stdout",
     "output_type": "stream",
     "text": [
      "0.16360585438612846\n"
     ]
    }
   ],
   "source": [
    "print(outliers_prop('landcover_urban_fraction'))"
   ]
  },
  {
   "cell_type": "markdown",
   "metadata": {},
   "source": [
    "**We have outliers we should remove**"
   ]
  },
  {
   "cell_type": "code",
   "execution_count": 19,
   "metadata": {},
   "outputs": [],
   "source": [
    "Q1 = train.iloc[:,4:].quantile(0.25)\n",
    "Q3 = train.iloc[:,4:].quantile(0.75)\n",
    "IQR = Q3 - Q1\n",
    "train = train[~((train.iloc[:,4:] < (Q1 - 1.5 * IQR)) | (train.iloc[:,4:] > (Q3 + 1.5 * IQR))).any(axis=1)]"
   ]
  },
  {
   "cell_type": "code",
   "execution_count": 20,
   "metadata": {},
   "outputs": [
    {
     "name": "stderr",
     "output_type": "stream",
     "text": [
      "C:\\Users\\Omar\\Anaconda3\\lib\\site-packages\\numpy\\core\\_asarray.py:83: VisibleDeprecationWarning: Creating an ndarray from ragged nested sequences (which is a list-or-tuple of lists-or-tuples-or ndarrays with different lengths or shapes) is deprecated. If you meant to do this, you must specify 'dtype=object' when creating the ndarray\n",
      "  return array(a, dtype, copy=False, order=order)\n"
     ]
    },
    {
     "data": {
      "text/plain": [
       "<matplotlib.axes._subplots.AxesSubplot at 0x1c19d0c7ef0>"
      ]
     },
     "execution_count": 20,
     "metadata": {},
     "output_type": "execute_result"
    },
    {
     "data": {
      "image/png": "[encoded data removed]",
      "text/plain": [
       "<matplotlib.figure.Figure at 0x1c19d70d748>"
      ]
     },
     "metadata": {
      "needs_background": "light"
     },
     "output_type": "display_data"
    }
   ],
   "source": [
    "# Looking at the wealth distribution for urban vs rural\n",
    "train.boxplot(by='urban_or_rural', column='Target', figsize=(10, 6))"
   ]
  },
  {
   "cell_type": "markdown",
   "metadata": {},
   "source": [
    "Again, not unexpected. Rural areas tend to be less wealthy than urban areas.\n"
   ]
  },
  {
   "cell_type": "code",
   "execution_count": 21,
   "metadata": {},
   "outputs": [
    {
     "data": {
      "text/plain": [
       "ID                                         0\n",
       "country                                    0\n",
       "year                                       0\n",
       "urban_or_rural                             0\n",
       "ghsl_water_surface                         0\n",
       "ghsl_built_pre_1975                        0\n",
       "ghsl_built_1975_to_1990                    0\n",
       "ghsl_built_1990_to_2000                    0\n",
       "ghsl_built_2000_to_2014                    0\n",
       "ghsl_not_built_up                          0\n",
       "ghsl_pop_density                           0\n",
       "landcover_crops_fraction                   0\n",
       "landcover_urban_fraction                   0\n",
       "landcover_water_permanent_10km_fraction    0\n",
       "landcover_water_seasonal_10km_fraction     0\n",
       "nighttime_lights                           0\n",
       "dist_to_capital                            0\n",
       "dist_to_shoreline                          0\n",
       "Target                                     0\n",
       "dtype: int64"
      ]
     },
     "execution_count": 21,
     "metadata": {},
     "output_type": "execute_result"
    }
   ],
   "source": [
    "train.isna().sum() "
   ]
  },
  {
   "cell_type": "markdown",
   "metadata": {},
   "source": [
    "no missing data!"
   ]
  },
  {
   "cell_type": "code",
   "execution_count": 50,
   "metadata": {},
   "outputs": [
    {
     "data": {
      "text/plain": [
       "['year',\n",
       " 'country',\n",
       " 'ghsl_built_1975_to_1990',\n",
       " 'ghsl_not_built_up',\n",
       " 'ghsl_pop_density',\n",
       " 'landcover_urban_fraction',\n",
       " 'nighttime_lights',\n",
       " 'Target']"
      ]
     },
     "execution_count": 50,
     "metadata": {},
     "output_type": "execute_result"
    }
   ],
   "source": [
    "new_cols = list(relevant_features.index)\n",
    "test = test[['year','country'] + new_cols[:-1]]\n",
    "new_cols = ['year','country'] + new_cols\n",
    "new_cols"
   ]
  },
  {
   "cell_type": "code",
   "execution_count": 51,
   "metadata": {},
   "outputs": [],
   "source": [
    "train = train[new_cols]"
   ]
  },
  {
   "cell_type": "code",
   "execution_count": 52,
   "metadata": {},
   "outputs": [
    {
     "data": {
      "text/html": [
       "<div>\n",
       "<style scoped>\n",
       "    .dataframe tbody tr th:only-of-type {\n",
       "        vertical-align: middle;\n",
       "    }\n",
       "\n",
       "    .dataframe tbody tr th {\n",
       "        vertical-align: top;\n",
       "    }\n",
       "\n",
       "    .dataframe thead th {\n",
       "        text-align: right;\n",
       "    }\n",
       "</style>\n",
       "<table border=\"1\" class=\"dataframe\">\n",
       "  <thead>\n",
       "    <tr style=\"text-align: right;\">\n",
       "      <th></th>\n",
       "      <th>year</th>\n",
       "      <th>country</th>\n",
       "      <th>ghsl_built_1975_to_1990</th>\n",
       "      <th>ghsl_not_built_up</th>\n",
       "      <th>ghsl_pop_density</th>\n",
       "      <th>landcover_urban_fraction</th>\n",
       "      <th>nighttime_lights</th>\n",
       "      <th>Target</th>\n",
       "    </tr>\n",
       "  </thead>\n",
       "  <tbody>\n",
       "    <tr>\n",
       "      <th>0</th>\n",
       "      <td>2016</td>\n",
       "      <td>Ethiopia</td>\n",
       "      <td>0.000000</td>\n",
       "      <td>0.999408</td>\n",
       "      <td>12.146134</td>\n",
       "      <td>0.879484</td>\n",
       "      <td>0.0</td>\n",
       "      <td>0.132783</td>\n",
       "    </tr>\n",
       "    <tr>\n",
       "      <th>1</th>\n",
       "      <td>2005</td>\n",
       "      <td>Ethiopia</td>\n",
       "      <td>0.000110</td>\n",
       "      <td>0.999872</td>\n",
       "      <td>113.806716</td>\n",
       "      <td>0.601427</td>\n",
       "      <td>0.0</td>\n",
       "      <td>0.004898</td>\n",
       "    </tr>\n",
       "    <tr>\n",
       "      <th>2</th>\n",
       "      <td>2009</td>\n",
       "      <td>Mozambique</td>\n",
       "      <td>0.000000</td>\n",
       "      <td>1.000000</td>\n",
       "      <td>0.000000</td>\n",
       "      <td>0.131900</td>\n",
       "      <td>0.0</td>\n",
       "      <td>0.097320</td>\n",
       "    </tr>\n",
       "    <tr>\n",
       "      <th>6</th>\n",
       "      <td>2004</td>\n",
       "      <td>Cameroon</td>\n",
       "      <td>0.000149</td>\n",
       "      <td>0.999458</td>\n",
       "      <td>0.342950</td>\n",
       "      <td>0.251395</td>\n",
       "      <td>0.0</td>\n",
       "      <td>0.133302</td>\n",
       "    </tr>\n",
       "    <tr>\n",
       "      <th>7</th>\n",
       "      <td>2014</td>\n",
       "      <td>Ghana</td>\n",
       "      <td>0.001042</td>\n",
       "      <td>0.997094</td>\n",
       "      <td>14.340860</td>\n",
       "      <td>4.180947</td>\n",
       "      <td>0.0</td>\n",
       "      <td>0.545138</td>\n",
       "    </tr>\n",
       "  </tbody>\n",
       "</table>\n",
       "</div>"
      ],
      "text/plain": [
       "   year     country  ghsl_built_1975_to_1990  ghsl_not_built_up  \\\n",
       "0  2016    Ethiopia                 0.000000           0.999408   \n",
       "1  2005    Ethiopia                 0.000110           0.999872   \n",
       "2  2009  Mozambique                 0.000000           1.000000   \n",
       "6  2004    Cameroon                 0.000149           0.999458   \n",
       "7  2014       Ghana                 0.001042           0.997094   \n",
       "\n",
       "   ghsl_pop_density  landcover_urban_fraction  nighttime_lights    Target  \n",
       "0         12.146134                  0.879484               0.0  0.132783  \n",
       "1        113.806716                  0.601427               0.0  0.004898  \n",
       "2          0.000000                  0.131900               0.0  0.097320  \n",
       "6          0.342950                  0.251395               0.0  0.133302  \n",
       "7         14.340860                  4.180947               0.0  0.545138  "
      ]
     },
     "execution_count": 52,
     "metadata": {},
     "output_type": "execute_result"
    }
   ],
   "source": [
    "train.head()"
   ]
  },
  {
   "cell_type": "code",
   "execution_count": 53,
   "metadata": {},
   "outputs": [
    {
     "data": {
      "text/html": [
       "<div>\n",
       "<style scoped>\n",
       "    .dataframe tbody tr th:only-of-type {\n",
       "        vertical-align: middle;\n",
       "    }\n",
       "\n",
       "    .dataframe tbody tr th {\n",
       "        vertical-align: top;\n",
       "    }\n",
       "\n",
       "    .dataframe thead th {\n",
       "        text-align: right;\n",
       "    }\n",
       "</style>\n",
       "<table border=\"1\" class=\"dataframe\">\n",
       "  <thead>\n",
       "    <tr style=\"text-align: right;\">\n",
       "      <th></th>\n",
       "      <th>year</th>\n",
       "      <th>country</th>\n",
       "      <th>ghsl_built_1975_to_1990</th>\n",
       "      <th>ghsl_not_built_up</th>\n",
       "      <th>ghsl_pop_density</th>\n",
       "      <th>landcover_urban_fraction</th>\n",
       "      <th>nighttime_lights</th>\n",
       "    </tr>\n",
       "  </thead>\n",
       "  <tbody>\n",
       "    <tr>\n",
       "      <th>0</th>\n",
       "      <td>2007</td>\n",
       "      <td>Democratic Republic of Congo</td>\n",
       "      <td>0.000000</td>\n",
       "      <td>0.999347</td>\n",
       "      <td>0.660758</td>\n",
       "      <td>0.132264</td>\n",
       "      <td>0.000000</td>\n",
       "    </tr>\n",
       "    <tr>\n",
       "      <th>1</th>\n",
       "      <td>2007</td>\n",
       "      <td>Democratic Republic of Congo</td>\n",
       "      <td>0.000238</td>\n",
       "      <td>0.991437</td>\n",
       "      <td>6.441547</td>\n",
       "      <td>0.452400</td>\n",
       "      <td>0.000000</td>\n",
       "    </tr>\n",
       "    <tr>\n",
       "      <th>2</th>\n",
       "      <td>2011</td>\n",
       "      <td>Uganda</td>\n",
       "      <td>0.132795</td>\n",
       "      <td>0.196373</td>\n",
       "      <td>587.516458</td>\n",
       "      <td>87.387991</td>\n",
       "      <td>60.070041</td>\n",
       "    </tr>\n",
       "    <tr>\n",
       "      <th>3</th>\n",
       "      <td>2010</td>\n",
       "      <td>Burkina Faso</td>\n",
       "      <td>0.000036</td>\n",
       "      <td>0.996997</td>\n",
       "      <td>35.141762</td>\n",
       "      <td>4.166437</td>\n",
       "      <td>1.333999</td>\n",
       "    </tr>\n",
       "    <tr>\n",
       "      <th>4</th>\n",
       "      <td>2007</td>\n",
       "      <td>Zambia</td>\n",
       "      <td>0.000623</td>\n",
       "      <td>0.995663</td>\n",
       "      <td>3.442449</td>\n",
       "      <td>3.437129</td>\n",
       "      <td>0.502203</td>\n",
       "    </tr>\n",
       "  </tbody>\n",
       "</table>\n",
       "</div>"
      ],
      "text/plain": [
       "   year                       country  ghsl_built_1975_to_1990  \\\n",
       "0  2007  Democratic Republic of Congo                 0.000000   \n",
       "1  2007  Democratic Republic of Congo                 0.000238   \n",
       "2  2011                        Uganda                 0.132795   \n",
       "3  2010                  Burkina Faso                 0.000036   \n",
       "4  2007                        Zambia                 0.000623   \n",
       "\n",
       "   ghsl_not_built_up  ghsl_pop_density  landcover_urban_fraction  \\\n",
       "0           0.999347          0.660758                  0.132264   \n",
       "1           0.991437          6.441547                  0.452400   \n",
       "2           0.196373        587.516458                 87.387991   \n",
       "3           0.996997         35.141762                  4.166437   \n",
       "4           0.995663          3.442449                  3.437129   \n",
       "\n",
       "   nighttime_lights  \n",
       "0          0.000000  \n",
       "1          0.000000  \n",
       "2         60.070041  \n",
       "3          1.333999  \n",
       "4          0.502203  "
      ]
     },
     "execution_count": 53,
     "metadata": {},
     "output_type": "execute_result"
    }
   ],
   "source": [
    "test.head()"
   ]
  },
  {
   "cell_type": "code",
   "execution_count": 24,
   "metadata": {},
   "outputs": [],
   "source": [
    "x_train, x_val, y_train, y_val = train_test_split(train.iloc[:,1:-1],train['Target'],test_size=0.2,random_state = 42, shuffle = True )"
   ]
  },
  {
   "cell_type": "code",
   "execution_count": 25,
   "metadata": {},
   "outputs": [
    {
     "data": {
      "text/html": [
       "<div>\n",
       "<style scoped>\n",
       "    .dataframe tbody tr th:only-of-type {\n",
       "        vertical-align: middle;\n",
       "    }\n",
       "\n",
       "    .dataframe tbody tr th {\n",
       "        vertical-align: top;\n",
       "    }\n",
       "\n",
       "    .dataframe thead th {\n",
       "        text-align: right;\n",
       "    }\n",
       "</style>\n",
       "<table border=\"1\" class=\"dataframe\">\n",
       "  <thead>\n",
       "    <tr style=\"text-align: right;\">\n",
       "      <th></th>\n",
       "      <th>country</th>\n",
       "      <th>year</th>\n",
       "      <th>urban_or_rural</th>\n",
       "      <th>ghsl_water_surface</th>\n",
       "      <th>ghsl_built_pre_1975</th>\n",
       "      <th>ghsl_built_1975_to_1990</th>\n",
       "      <th>ghsl_built_1990_to_2000</th>\n",
       "      <th>ghsl_built_2000_to_2014</th>\n",
       "      <th>ghsl_not_built_up</th>\n",
       "      <th>ghsl_pop_density</th>\n",
       "      <th>landcover_crops_fraction</th>\n",
       "      <th>landcover_urban_fraction</th>\n",
       "      <th>landcover_water_permanent_10km_fraction</th>\n",
       "      <th>landcover_water_seasonal_10km_fraction</th>\n",
       "      <th>nighttime_lights</th>\n",
       "      <th>dist_to_capital</th>\n",
       "      <th>dist_to_shoreline</th>\n",
       "    </tr>\n",
       "  </thead>\n",
       "  <tbody>\n",
       "    <tr>\n",
       "      <th>10493</th>\n",
       "      <td>Cameroon</td>\n",
       "      <td>2011</td>\n",
       "      <td>U</td>\n",
       "      <td>0.0</td>\n",
       "      <td>1.10e-04</td>\n",
       "      <td>3.53e-03</td>\n",
       "      <td>1.62e-03</td>\n",
       "      <td>5.95e-03</td>\n",
       "      <td>0.99</td>\n",
       "      <td>2.13</td>\n",
       "      <td>18.30</td>\n",
       "      <td>1.38</td>\n",
       "      <td>0.00e+00</td>\n",
       "      <td>0.00e+00</td>\n",
       "      <td>2.30</td>\n",
       "      <td>543.09</td>\n",
       "      <td>621.13</td>\n",
       "    </tr>\n",
       "    <tr>\n",
       "      <th>6408</th>\n",
       "      <td>Kenya</td>\n",
       "      <td>2015</td>\n",
       "      <td>U</td>\n",
       "      <td>0.0</td>\n",
       "      <td>0.00e+00</td>\n",
       "      <td>2.07e-04</td>\n",
       "      <td>4.13e-04</td>\n",
       "      <td>4.49e-04</td>\n",
       "      <td>1.00</td>\n",
       "      <td>61.02</td>\n",
       "      <td>26.57</td>\n",
       "      <td>6.17</td>\n",
       "      <td>7.75e-03</td>\n",
       "      <td>2.89e-03</td>\n",
       "      <td>0.00</td>\n",
       "      <td>220.38</td>\n",
       "      <td>629.42</td>\n",
       "    </tr>\n",
       "    <tr>\n",
       "      <th>5446</th>\n",
       "      <td>Kenya</td>\n",
       "      <td>2014</td>\n",
       "      <td>R</td>\n",
       "      <td>0.0</td>\n",
       "      <td>0.00e+00</td>\n",
       "      <td>1.42e-03</td>\n",
       "      <td>2.30e-03</td>\n",
       "      <td>1.20e-03</td>\n",
       "      <td>1.00</td>\n",
       "      <td>57.74</td>\n",
       "      <td>39.67</td>\n",
       "      <td>6.50</td>\n",
       "      <td>6.65e-03</td>\n",
       "      <td>8.68e-03</td>\n",
       "      <td>0.55</td>\n",
       "      <td>260.90</td>\n",
       "      <td>645.64</td>\n",
       "    </tr>\n",
       "    <tr>\n",
       "      <th>3887</th>\n",
       "      <td>Cameroon</td>\n",
       "      <td>2004</td>\n",
       "      <td>U</td>\n",
       "      <td>0.0</td>\n",
       "      <td>2.46e-03</td>\n",
       "      <td>0.00e+00</td>\n",
       "      <td>3.36e-03</td>\n",
       "      <td>0.00e+00</td>\n",
       "      <td>0.99</td>\n",
       "      <td>6.94</td>\n",
       "      <td>1.78</td>\n",
       "      <td>5.83</td>\n",
       "      <td>0.00e+00</td>\n",
       "      <td>0.00e+00</td>\n",
       "      <td>0.93</td>\n",
       "      <td>164.36</td>\n",
       "      <td>159.39</td>\n",
       "    </tr>\n",
       "    <tr>\n",
       "      <th>17462</th>\n",
       "      <td>Malawi</td>\n",
       "      <td>2010</td>\n",
       "      <td>R</td>\n",
       "      <td>0.0</td>\n",
       "      <td>2.63e-04</td>\n",
       "      <td>1.76e-04</td>\n",
       "      <td>1.48e-03</td>\n",
       "      <td>1.88e-03</td>\n",
       "      <td>1.00</td>\n",
       "      <td>18.41</td>\n",
       "      <td>27.55</td>\n",
       "      <td>5.58</td>\n",
       "      <td>8.39e-04</td>\n",
       "      <td>1.12e-03</td>\n",
       "      <td>0.00</td>\n",
       "      <td>221.33</td>\n",
       "      <td>370.07</td>\n",
       "    </tr>\n",
       "  </tbody>\n",
       "</table>\n",
       "</div>"
      ],
      "text/plain": [
       "        country  year urban_or_rural  ghsl_water_surface  ghsl_built_pre_1975  \\\n",
       "10493  Cameroon  2011              U                 0.0             1.10e-04   \n",
       "6408      Kenya  2015              U                 0.0             0.00e+00   \n",
       "5446      Kenya  2014              R                 0.0             0.00e+00   \n",
       "3887   Cameroon  2004              U                 0.0             2.46e-03   \n",
       "17462    Malawi  2010              R                 0.0             2.63e-04   \n",
       "\n",
       "       ghsl_built_1975_to_1990  ghsl_built_1990_to_2000  \\\n",
       "10493                 3.53e-03                 1.62e-03   \n",
       "6408                  2.07e-04                 4.13e-04   \n",
       "5446                  1.42e-03                 2.30e-03   \n",
       "3887                  0.00e+00                 3.36e-03   \n",
       "17462                 1.76e-04                 1.48e-03   \n",
       "\n",
       "       ghsl_built_2000_to_2014  ghsl_not_built_up  ghsl_pop_density  \\\n",
       "10493                 5.95e-03               0.99              2.13   \n",
       "6408                  4.49e-04               1.00             61.02   \n",
       "5446                  1.20e-03               1.00             57.74   \n",
       "3887                  0.00e+00               0.99              6.94   \n",
       "17462                 1.88e-03               1.00             18.41   \n",
       "\n",
       "       landcover_crops_fraction  landcover_urban_fraction  \\\n",
       "10493                     18.30                      1.38   \n",
       "6408                      26.57                      6.17   \n",
       "5446                      39.67                      6.50   \n",
       "3887                       1.78                      5.83   \n",
       "17462                     27.55                      5.58   \n",
       "\n",
       "       landcover_water_permanent_10km_fraction  \\\n",
       "10493                                 0.00e+00   \n",
       "6408                                  7.75e-03   \n",
       "5446                                  6.65e-03   \n",
       "3887                                  0.00e+00   \n",
       "17462                                 8.39e-04   \n",
       "\n",
       "       landcover_water_seasonal_10km_fraction  nighttime_lights  \\\n",
       "10493                                0.00e+00              2.30   \n",
       "6408                                 2.89e-03              0.00   \n",
       "5446                                 8.68e-03              0.55   \n",
       "3887                                 0.00e+00              0.93   \n",
       "17462                                1.12e-03              0.00   \n",
       "\n",
       "       dist_to_capital  dist_to_shoreline  \n",
       "10493           543.09             621.13  \n",
       "6408            220.38             629.42  \n",
       "5446            260.90             645.64  \n",
       "3887            164.36             159.39  \n",
       "17462           221.33             370.07  "
      ]
     },
     "execution_count": 25,
     "metadata": {},
     "output_type": "execute_result"
    }
   ],
   "source": [
    "x_train.head()"
   ]
  },
  {
   "cell_type": "markdown",
   "metadata": {},
   "source": [
    "**Let's Normalize years feature values with a small interval of two years**"
   ]
  },
  {
   "cell_type": "code",
   "execution_count": 26,
   "metadata": {},
   "outputs": [],
   "source": [
    "x_train['year'] = [int((float(a) // 2) - 997) for a in x_train['year']]  "
   ]
  },
  {
   "cell_type": "code",
   "execution_count": 27,
   "metadata": {},
   "outputs": [],
   "source": [
    "x_val['year'] = [int((float(a) // 2) - 997) for a in x_val['year']]  "
   ]
  },
  {
   "cell_type": "code",
   "execution_count": 28,
   "metadata": {},
   "outputs": [],
   "source": [
    "test['year'] = [int((float(a) // 2) - 997) for a in test['year']]  "
   ]
  },
  {
   "cell_type": "code",
   "execution_count": 26,
   "metadata": {},
   "outputs": [
    {
     "name": "stdout",
     "output_type": "stream",
     "text": [
      "Input columns: ['country', 'year', 'urban_or_rural', 'ghsl_water_surface', 'ghsl_built_pre_1975', 'ghsl_built_1975_to_1990', 'ghsl_built_1990_to_2000', 'ghsl_built_2000_to_2014', 'ghsl_not_built_up', 'ghsl_pop_density', 'landcover_crops_fraction', 'landcover_urban_fraction', 'landcover_water_permanent_10km_fraction', 'landcover_water_seasonal_10km_fraction', 'nighttime_lights', 'dist_to_capital', 'dist_to_shoreline']\n"
     ]
    }
   ],
   "source": [
    "my_cols = list(x_train.columns)\n",
    "print('Input columns:', my_cols)"
   ]
  },
  {
   "cell_type": "code",
   "execution_count": 29,
   "metadata": {},
   "outputs": [],
   "source": [
    "from sklearn import preprocessing\n",
    "\n",
    "le = preprocessing.LabelEncoder()\n",
    "le2 = preprocessing.LabelEncoder()\n",
    "\n",
    "le.fit(pd.concat([x_train['country'],x_val['country'],test['country']],axis=0))\n",
    "le2.fit(pd.concat([x_train['urban_or_rural'],x_val['urban_or_rural'],test['urban_or_rural']],axis=0))\n",
    "\n",
    "x_train['country'] = le.transform(x_train['country'])\n",
    "x_train['urban_or_rural'] = le2.transform(x_train['urban_or_rural'])\n",
    "x_val['country'] = le.transform(x_val['country'])\n",
    "x_val['urban_or_rural'] = le2.transform(x_val['urban_or_rural'])\n",
    "test['country'] = le.transform(test['country'])\n",
    "test['urban_or_rural'] = le2.transform(test['urban_or_rural'])"
   ]
  },
  {
   "cell_type": "code",
   "execution_count": 63,
   "metadata": {},
   "outputs": [
    {
     "name": "stdout",
     "output_type": "stream",
     "text": [
      "Best alpha using built-in LassoCV: 0.009038\n",
      "Best score using built-in LassoCV: 0.422581\n"
     ]
    }
   ],
   "source": [
    "from sklearn.linear_model import LassoCV\n",
    "reg = LassoCV()\n",
    "reg.fit(x_train, y_train)\n",
    "print(\"Best alpha using built-in LassoCV: %f\" % reg.alpha_)\n",
    "print(\"Best score using built-in LassoCV: %f\" %reg.score(x_train,y_train))\n",
    "coef = pd.Series(reg.coef_, index = x_train.columns)"
   ]
  },
  {
   "cell_type": "code",
   "execution_count": 64,
   "metadata": {},
   "outputs": [
    {
     "name": "stdout",
     "output_type": "stream",
     "text": [
      "Lasso picked 9 variables and eliminated the other 8 variables\n"
     ]
    }
   ],
   "source": [
    "print(\"Lasso picked \" + str(sum(coef != 0)) + \" variables and eliminated the other \" +  str(sum(coef == 0)) + \" variables\")"
   ]
  },
  {
   "cell_type": "code",
   "execution_count": 65,
   "metadata": {},
   "outputs": [
    {
     "data": {
      "text/plain": [
       "Index(['country', 'year', 'urban_or_rural', 'ghsl_water_surface',\n",
       "       'ghsl_built_pre_1975', 'ghsl_built_1975_to_1990',\n",
       "       'ghsl_built_1990_to_2000', 'ghsl_built_2000_to_2014',\n",
       "       'ghsl_not_built_up', 'ghsl_pop_density', 'landcover_crops_fraction',\n",
       "       'landcover_urban_fraction', 'landcover_water_permanent_10km_fraction',\n",
       "       'landcover_water_seasonal_10km_fraction', 'nighttime_lights',\n",
       "       'dist_to_capital', 'dist_to_shoreline'],\n",
       "      dtype='object')"
      ]
     },
     "execution_count": 65,
     "metadata": {},
     "output_type": "execute_result"
    }
   ],
   "source": [
    "coef.index"
   ]
  },
  {
   "cell_type": "code",
   "execution_count": 66,
   "metadata": {},
   "outputs": [
    {
     "data": {
      "text/plain": [
       "Text(0.5,1,'Feature importance using Lasso Model')"
      ]
     },
     "execution_count": 66,
     "metadata": {},
     "output_type": "execute_result"
    },
    {
     "data": {
      "image/png": "[encoded data removed]",
      "text/plain": [
       "<matplotlib.figure.Figure at 0x2a940d8d390>"
      ]
     },
     "metadata": {
      "needs_background": "light"
     },
     "output_type": "display_data"
    }
   ],
   "source": [
    "imp_coef = coef.sort_values()\n",
    "import matplotlib\n",
    "matplotlib.rcParams['figure.figsize'] = (8.0, 10.0)\n",
    "imp_coef.plot(kind = \"barh\")\n",
    "plt.title(\"Feature importance using Lasso Model\")"
   ]
  },
  {
   "cell_type": "code",
   "execution_count": 67,
   "metadata": {},
   "outputs": [
    {
     "data": {
      "text/plain": [
       "['country',\n",
       " 'year',\n",
       " 'urban_or_rural',\n",
       " 'ghsl_pop_density',\n",
       " 'landcover_crops_fraction',\n",
       " 'landcover_urban_fraction',\n",
       " 'nighttime_lights',\n",
       " 'dist_to_capital',\n",
       " 'dist_to_shoreline']"
      ]
     },
     "execution_count": 67,
     "metadata": {},
     "output_type": "execute_result"
    }
   ],
   "source": [
    "cols = [x for x in coef.index if coef[x]!=0]\n",
    "cols"
   ]
  },
  {
   "cell_type": "code",
   "execution_count": 68,
   "metadata": {},
   "outputs": [],
   "source": [
    "x_train = x_train[cols]\n",
    "x_val = x_val[cols]\n",
    "test = test[cols]"
   ]
  },
  {
   "cell_type": "code",
   "execution_count": 28,
   "metadata": {},
   "outputs": [
    {
     "data": {
      "text/html": [
       "<div>\n",
       "<style scoped>\n",
       "    .dataframe tbody tr th:only-of-type {\n",
       "        vertical-align: middle;\n",
       "    }\n",
       "\n",
       "    .dataframe tbody tr th {\n",
       "        vertical-align: top;\n",
       "    }\n",
       "\n",
       "    .dataframe thead th {\n",
       "        text-align: right;\n",
       "    }\n",
       "</style>\n",
       "<table border=\"1\" class=\"dataframe\">\n",
       "  <thead>\n",
       "    <tr style=\"text-align: right;\">\n",
       "      <th></th>\n",
       "      <th>ID</th>\n",
       "      <th>country</th>\n",
       "      <th>year</th>\n",
       "      <th>urban_or_rural</th>\n",
       "      <th>ghsl_water_surface</th>\n",
       "      <th>ghsl_built_pre_1975</th>\n",
       "      <th>ghsl_built_1975_to_1990</th>\n",
       "      <th>ghsl_built_1990_to_2000</th>\n",
       "      <th>ghsl_built_2000_to_2014</th>\n",
       "      <th>ghsl_not_built_up</th>\n",
       "      <th>ghsl_pop_density</th>\n",
       "      <th>landcover_crops_fraction</th>\n",
       "      <th>landcover_urban_fraction</th>\n",
       "      <th>landcover_water_permanent_10km_fraction</th>\n",
       "      <th>landcover_water_seasonal_10km_fraction</th>\n",
       "      <th>nighttime_lights</th>\n",
       "      <th>dist_to_capital</th>\n",
       "      <th>dist_to_shoreline</th>\n",
       "    </tr>\n",
       "  </thead>\n",
       "  <tbody>\n",
       "    <tr>\n",
       "      <th>0</th>\n",
       "      <td>ID_AAcismbB</td>\n",
       "      <td>6</td>\n",
       "      <td>6</td>\n",
       "      <td>0</td>\n",
       "      <td>0.000000</td>\n",
       "      <td>0.000000</td>\n",
       "      <td>0.000000</td>\n",
       "      <td>0.000523</td>\n",
       "      <td>0.000131</td>\n",
       "      <td>0.999347</td>\n",
       "      <td>0.660758</td>\n",
       "      <td>0.990942</td>\n",
       "      <td>0.132264</td>\n",
       "      <td>0.069055</td>\n",
       "      <td>0.032627</td>\n",
       "      <td>0.000000</td>\n",
       "      <td>1249.294720</td>\n",
       "      <td>1364.592100</td>\n",
       "    </tr>\n",
       "    <tr>\n",
       "      <th>1</th>\n",
       "      <td>ID_AAeBMsji</td>\n",
       "      <td>6</td>\n",
       "      <td>6</td>\n",
       "      <td>1</td>\n",
       "      <td>0.000000</td>\n",
       "      <td>0.004239</td>\n",
       "      <td>0.000238</td>\n",
       "      <td>0.001227</td>\n",
       "      <td>0.002860</td>\n",
       "      <td>0.991437</td>\n",
       "      <td>6.441547</td>\n",
       "      <td>5.461365</td>\n",
       "      <td>0.452400</td>\n",
       "      <td>0.000000</td>\n",
       "      <td>0.000000</td>\n",
       "      <td>0.000000</td>\n",
       "      <td>821.019579</td>\n",
       "      <td>1046.028681</td>\n",
       "    </tr>\n",
       "    <tr>\n",
       "      <th>2</th>\n",
       "      <td>ID_AAjFMjzy</td>\n",
       "      <td>22</td>\n",
       "      <td>8</td>\n",
       "      <td>1</td>\n",
       "      <td>0.007359</td>\n",
       "      <td>0.525682</td>\n",
       "      <td>0.132795</td>\n",
       "      <td>0.095416</td>\n",
       "      <td>0.042375</td>\n",
       "      <td>0.196373</td>\n",
       "      <td>587.516458</td>\n",
       "      <td>2.881811</td>\n",
       "      <td>87.387991</td>\n",
       "      <td>3.248483</td>\n",
       "      <td>3.950374</td>\n",
       "      <td>60.070041</td>\n",
       "      <td>3.620455</td>\n",
       "      <td>906.057334</td>\n",
       "    </tr>\n",
       "    <tr>\n",
       "      <th>3</th>\n",
       "      <td>ID_AAmMOEEC</td>\n",
       "      <td>2</td>\n",
       "      <td>8</td>\n",
       "      <td>1</td>\n",
       "      <td>0.000000</td>\n",
       "      <td>0.000089</td>\n",
       "      <td>0.000036</td>\n",
       "      <td>0.001519</td>\n",
       "      <td>0.001358</td>\n",
       "      <td>0.996997</td>\n",
       "      <td>35.141762</td>\n",
       "      <td>33.878927</td>\n",
       "      <td>4.166437</td>\n",
       "      <td>0.000000</td>\n",
       "      <td>0.130727</td>\n",
       "      <td>1.333999</td>\n",
       "      <td>109.493969</td>\n",
       "      <td>775.139189</td>\n",
       "    </tr>\n",
       "    <tr>\n",
       "      <th>4</th>\n",
       "      <td>ID_ABguzDxp</td>\n",
       "      <td>23</td>\n",
       "      <td>6</td>\n",
       "      <td>0</td>\n",
       "      <td>0.000000</td>\n",
       "      <td>0.000138</td>\n",
       "      <td>0.000623</td>\n",
       "      <td>0.000615</td>\n",
       "      <td>0.002961</td>\n",
       "      <td>0.995663</td>\n",
       "      <td>3.442449</td>\n",
       "      <td>33.491994</td>\n",
       "      <td>3.437129</td>\n",
       "      <td>0.133563</td>\n",
       "      <td>0.128997</td>\n",
       "      <td>0.502203</td>\n",
       "      <td>133.643319</td>\n",
       "      <td>835.591501</td>\n",
       "    </tr>\n",
       "  </tbody>\n",
       "</table>\n",
       "</div>"
      ],
      "text/plain": [
       "            ID  country  year  urban_or_rural  ghsl_water_surface  \\\n",
       "0  ID_AAcismbB        6     6               0            0.000000   \n",
       "1  ID_AAeBMsji        6     6               1            0.000000   \n",
       "2  ID_AAjFMjzy       22     8               1            0.007359   \n",
       "3  ID_AAmMOEEC        2     8               1            0.000000   \n",
       "4  ID_ABguzDxp       23     6               0            0.000000   \n",
       "\n",
       "   ghsl_built_pre_1975  ghsl_built_1975_to_1990  ghsl_built_1990_to_2000  \\\n",
       "0             0.000000                 0.000000                 0.000523   \n",
       "1             0.004239                 0.000238                 0.001227   \n",
       "2             0.525682                 0.132795                 0.095416   \n",
       "3             0.000089                 0.000036                 0.001519   \n",
       "4             0.000138                 0.000623                 0.000615   \n",
       "\n",
       "   ghsl_built_2000_to_2014  ghsl_not_built_up  ghsl_pop_density  \\\n",
       "0                 0.000131           0.999347          0.660758   \n",
       "1                 0.002860           0.991437          6.441547   \n",
       "2                 0.042375           0.196373        587.516458   \n",
       "3                 0.001358           0.996997         35.141762   \n",
       "4                 0.002961           0.995663          3.442449   \n",
       "\n",
       "   landcover_crops_fraction  landcover_urban_fraction  \\\n",
       "0                  0.990942                  0.132264   \n",
       "1                  5.461365                  0.452400   \n",
       "2                  2.881811                 87.387991   \n",
       "3                 33.878927                  4.166437   \n",
       "4                 33.491994                  3.437129   \n",
       "\n",
       "   landcover_water_permanent_10km_fraction  \\\n",
       "0                                 0.069055   \n",
       "1                                 0.000000   \n",
       "2                                 3.248483   \n",
       "3                                 0.000000   \n",
       "4                                 0.133563   \n",
       "\n",
       "   landcover_water_seasonal_10km_fraction  nighttime_lights  dist_to_capital  \\\n",
       "0                                0.032627          0.000000      1249.294720   \n",
       "1                                0.000000          0.000000       821.019579   \n",
       "2                                3.950374         60.070041         3.620455   \n",
       "3                                0.130727          1.333999       109.493969   \n",
       "4                                0.128997          0.502203       133.643319   \n",
       "\n",
       "   dist_to_shoreline  \n",
       "0        1364.592100  \n",
       "1        1046.028681  \n",
       "2         906.057334  \n",
       "3         775.139189  \n",
       "4         835.591501  "
      ]
     },
     "execution_count": 28,
     "metadata": {},
     "output_type": "execute_result"
    }
   ],
   "source": [
    "test.head()"
   ]
  },
  {
   "cell_type": "markdown",
   "metadata": {},
   "source": [
    "**Scaling the data**"
   ]
  },
  {
   "cell_type": "code",
   "execution_count": 31,
   "metadata": {},
   "outputs": [],
   "source": [
    "from sklearn.preprocessing import StandardScaler\n",
    "sc = StandardScaler()\n",
    "x_train = sc.fit_transform(x_train)\n",
    "x_val = sc.transform(x_val)\n",
    "test = sc.transform(test.iloc[:,1:])"
   ]
  },
  {
   "cell_type": "code",
   "execution_count": 32,
   "metadata": {},
   "outputs": [
    {
     "data": {
      "text/plain": [
       "array([[-0.29631686, -0.39600039, -0.43378725, ..., -0.435694  ,\n",
       "        -0.98297428, -0.82558065],\n",
       "       [-0.7242387 ,  0.43630534, -0.43378725, ..., -0.435694  ,\n",
       "        -0.31781526, -0.8898233 ],\n",
       "       [-0.08235594,  0.02015247, -0.43378725, ..., -0.435694  ,\n",
       "        -0.55481723, -0.30876285],\n",
       "       ...,\n",
       "       [-0.51027778,  0.8524582 ,  2.30527752, ..., -0.435694  ,\n",
       "        -0.37041941,  0.53747603],\n",
       "       [-1.15216054, -1.22830612, -0.43378725, ..., -0.435694  ,\n",
       "        -0.31734385, -0.49149535],\n",
       "       [-2.00800422, -1.22830612, -0.43378725, ...,  0.19272163,\n",
       "         0.04391484, -0.83053494]])"
      ]
     },
     "execution_count": 32,
     "metadata": {},
     "output_type": "execute_result"
    }
   ],
   "source": [
    "x_val"
   ]
  },
  {
   "cell_type": "markdown",
   "metadata": {},
   "source": [
    "Now, Data is ready to feed our model."
   ]
  },
  {
   "cell_type": "code",
   "execution_count": 281,
   "metadata": {},
   "outputs": [
    {
     "name": "stdout",
     "output_type": "stream",
     "text": [
      "{'n_estimators': [200, 400, 600, 800, 1000, 1200, 1400, 1600, 1800, 2000], 'max_features': ['auto', 'sqrt'], 'max_depth': [10, 20, 30, 40, 50, 60, 70, 80, 90, 100, 110, None], 'min_samples_split': [2, 5, 10], 'min_samples_leaf': [1, 2, 4], 'bootstrap': [True, False]}\n"
     ]
    },
    {
     "data": {
      "text/plain": [
       "{'bootstrap': [True, False],\n",
       " 'max_depth': [10, 20, 30, 40, 50, 60, 70, 80, 90, 100, None],\n",
       " 'max_features': ['auto', 'sqrt'],\n",
       " 'min_samples_leaf': [1, 2, 4],\n",
       " 'min_samples_split': [2, 5, 10],\n",
       " 'n_estimators': [200, 400, 600, 800, 1000, 1200, 1400, 1600, 1800, 2000]}"
      ]
     },
     "execution_count": 281,
     "metadata": {},
     "output_type": "execute_result"
    }
   ],
   "source": [
    "from sklearn.model_selection import RandomizedSearchCV\n",
    "# Number of trees in random forest\n",
    "n_estimators = [int(x) for x in np.linspace(start = 200, stop = 2000, num = 10)]\n",
    "# Number of features to consider at every split\n",
    "max_features = ['auto', 'sqrt']\n",
    "# Maximum number of levels in tree\n",
    "max_depth = [int(x) for x in np.linspace(10, 110, num = 11)]\n",
    "max_depth.append(None)\n",
    "# Minimum number of samples required to split a node\n",
    "min_samples_split = [2, 5, 10]\n",
    "# Minimum number of samples required at each leaf node\n",
    "min_samples_leaf = [1, 2, 4]\n",
    "# Method of selecting samples for training each tree\n",
    "bootstrap = [True, False]\n",
    "# Create the random grid\n",
    "random_grid = {'n_estimators': n_estimators,\n",
    "               'max_features': max_features,\n",
    "               'max_depth': max_depth,\n",
    "               'min_samples_split': min_samples_split,\n",
    "               'min_samples_leaf': min_samples_leaf,\n",
    "               'bootstrap': bootstrap}\n",
    "print(random_grid)\n",
    "{'bootstrap': [True, False],\n",
    " 'max_depth': [10, 20, 30, 40, 50, 60, 70, 80, 90, 100, None],\n",
    " 'max_features': ['auto', 'sqrt'],\n",
    " 'min_samples_leaf': [1, 2, 4],\n",
    " 'min_samples_split': [2, 5, 10],\n",
    " 'n_estimators': [200, 400, 600, 800, 1000, 1200, 1400, 1600, 1800, 2000]}"
   ]
  },
  {
   "cell_type": "code",
   "execution_count": 282,
   "metadata": {},
   "outputs": [
    {
     "name": "stdout",
     "output_type": "stream",
     "text": [
      "Fitting 3 folds for each of 100 candidates, totalling 300 fits\n"
     ]
    },
    {
     "data": {
      "text/plain": [
       "RandomizedSearchCV(cv=3, estimator=RandomForestRegressor(), n_iter=100,\n",
       "                   n_jobs=-1,\n",
       "                   param_distributions={'bootstrap': [True, False],\n",
       "                                        'max_depth': [10, 20, 30, 40, 50, 60,\n",
       "                                                      70, 80, 90, 100, 110,\n",
       "                                                      None],\n",
       "                                        'max_features': ['auto', 'sqrt'],\n",
       "                                        'min_samples_leaf': [1, 2, 4],\n",
       "                                        'min_samples_split': [2, 5, 10],\n",
       "                                        'n_estimators': [200, 400, 600, 800,\n",
       "                                                         1000, 1200, 1400, 1600,\n",
       "                                                         1800, 2000]},\n",
       "                   random_state=42, verbose=2)"
      ]
     },
     "execution_count": 282,
     "metadata": {},
     "output_type": "execute_result"
    }
   ],
   "source": [
    "rf = RandomForestRegressor()\n",
    "# Random search of parameters, using 3 fold cross validation, \n",
    "# search across 100 different combinations, and use all available cores\n",
    "rf_random = RandomizedSearchCV(estimator = rf, param_distributions = random_grid, n_iter = 100, cv = 3, verbose=2, random_state=42, n_jobs = -1)\n",
    "# Fit the random search model\n",
    "rf_random.fit(x_train, y_train)\n"
   ]
  },
  {
   "cell_type": "code",
   "execution_count": 283,
   "metadata": {},
   "outputs": [
    {
     "data": {
      "text/plain": [
       "{'bootstrap': False,\n",
       " 'max_depth': 30,\n",
       " 'max_features': 'sqrt',\n",
       " 'min_samples_leaf': 2,\n",
       " 'min_samples_split': 10,\n",
       " 'n_estimators': 800}"
      ]
     },
     "execution_count": 283,
     "metadata": {},
     "output_type": "execute_result"
    }
   ],
   "source": [
    "rf_random.best_params_"
   ]
  },
  {
   "cell_type": "code",
   "execution_count": 33,
   "metadata": {},
   "outputs": [],
   "source": [
    "from sklearn.linear_model import LinearRegression\n",
    "from sklearn.linear_model import Lasso\n",
    "from sklearn.linear_model import ElasticNet\n",
    "from sklearn.tree import DecisionTreeRegressor\n",
    "from sklearn.neighbors import KNeighborsRegressor\n",
    "from sklearn.ensemble import GradientBoostingRegressor\n",
    "from sklearn.model_selection import cross_val_score\n",
    "from sklearn.model_selection import KFold\n",
    "from sklearn.pipeline import Pipeline"
   ]
  },
  {
   "cell_type": "code",
   "execution_count": 35,
   "metadata": {},
   "outputs": [
    {
     "name": "stdout",
     "output_type": "stream",
     "text": [
      "ScaledLR: -0.010813 (0.000538)\n",
      "ScaledLASSO: -0.020406 (0.000682)\n",
      "ScaledEN: -0.020406 (0.000682)\n",
      "ScaledKNN: -0.008588 (0.000479)\n",
      "ScaledCART: -0.013308 (0.001198)\n",
      "ScaledGBM: -0.007214 (0.000481)\n"
     ]
    }
   ],
   "source": [
    "pipelines = []\n",
    "pipelines.append(('ScaledLR', Pipeline([('Scaler', StandardScaler()),('LR',LinearRegression())])))\n",
    "pipelines.append(('ScaledLASSO', Pipeline([('Scaler', StandardScaler()),('LASSO', Lasso())])))\n",
    "pipelines.append(('ScaledEN', Pipeline([('Scaler', StandardScaler()),('EN', ElasticNet())])))\n",
    "pipelines.append(('ScaledKNN', Pipeline([('Scaler', StandardScaler()),('KNN', KNeighborsRegressor())])))\n",
    "pipelines.append(('ScaledCART', Pipeline([('Scaler', StandardScaler()),('CART', DecisionTreeRegressor())])))\n",
    "pipelines.append(('ScaledGBM', Pipeline([('Scaler', StandardScaler()),('GBM', GradientBoostingRegressor())])))\n",
    "\n",
    "results = []\n",
    "names = []\n",
    "for name, model in pipelines:\n",
    "    kfold = KFold(n_splits=10, random_state=21, shuffle=True)\n",
    "    cv_results = cross_val_score(model, x_train, y_train, cv=kfold, scoring='neg_mean_squared_error')\n",
    "    results.append(cv_results)\n",
    "    names.append(name)\n",
    "    msg = \"%s: %f (%f)\" % (name, cv_results.mean(), cv_results.std())\n",
    "    print(msg)\n"
   ]
  },
  {
   "cell_type": "code",
   "execution_count": 46,
   "metadata": {},
   "outputs": [
    {
     "name": "stdout",
     "output_type": "stream",
     "text": [
      "-0.007819 (0.000313) with: {'n_estimators': 50}\n",
      "-0.007141 (0.000274) with: {'n_estimators': 100}\n",
      "-0.006833 (0.000230) with: {'n_estimators': 200}\n",
      "-0.006751 (0.000214) with: {'n_estimators': 300}\n",
      "-0.006720 (0.000221) with: {'n_estimators': 400}\n",
      "Best: -0.006720 using {'n_estimators': 400}\n"
     ]
    }
   ],
   "source": [
    "from sklearn.model_selection import GridSearchCV\n",
    "\n",
    "full_x_train = np.concatenate((x_train, x_val), axis=0)\n",
    "full_y_train = pd.concat([y_train,y_val])\n",
    "param_grid = dict(n_estimators=np.array([50,100,200,300,400]))\n",
    "model = GradientBoostingRegressor(random_state=21)\n",
    "kfold = KFold(n_splits=10, random_state=21, shuffle=True)\n",
    "grid = GridSearchCV(estimator=model, param_grid=param_grid, scoring='neg_mean_squared_error', cv=kfold)\n",
    "grid_result = grid.fit(full_x_train, full_y_train)\n",
    "\n",
    "means = grid_result.cv_results_['mean_test_score']\n",
    "stds = grid_result.cv_results_['std_test_score']\n",
    "params = grid_result.cv_results_['params']\n",
    "for mean, stdev, param in zip(means, stds, params):\n",
    "    print(\"%f (%f) with: %r\" % (mean, stdev, param))\n",
    "\n",
    "print(\"Best: %f using %s\" % (grid_result.best_score_, grid_result.best_params_))"
   ]
  },
  {
   "cell_type": "code",
   "execution_count": 55,
   "metadata": {},
   "outputs": [
    {
     "name": "stdout",
     "output_type": "stream",
     "text": [
      "0.008374369636665872\n"
     ]
    }
   ],
   "source": [
    "from sklearn.metrics import mean_squared_error\n",
    "\n",
    "model = KNeighborsRegressor()\n",
    "model.fit(x_train, y_train)\n",
    "\n",
    "\n",
    "predictions = model.predict(x_val)\n",
    "print (mean_squared_error(y_val, predictions))"
   ]
  },
  {
   "cell_type": "code",
   "execution_count": 56,
   "metadata": {},
   "outputs": [
    {
     "data": {
      "text/plain": [
       "0.065368523130093"
      ]
     },
     "execution_count": 56,
     "metadata": {},
     "output_type": "execute_result"
    }
   ],
   "source": [
    "from sklearn.metrics import mean_absolute_error\n",
    "mean_absolute_error(y_val, model.predict(x_val))"
   ]
  },
  {
   "cell_type": "code",
   "execution_count": 57,
   "metadata": {},
   "outputs": [
    {
     "name": "stdout",
     "output_type": "stream",
     "text": [
      "Training set accuracy = 0.7244419152598508\n",
      "Test set accuracy = 0.5713699371315596\n"
     ]
    }
   ],
   "source": [
    "print(\"Training set accuracy = \" + str(model.score(x_train, y_train)))\n",
    "print(\"Test set accuracy = \" + str(model.score(x_val, y_val)))"
   ]
  },
  {
   "cell_type": "code",
   "execution_count": 51,
   "metadata": {},
   "outputs": [
    {
     "name": "stdout",
     "output_type": "stream",
     "text": [
      "Training set accuracy = 0.7417181647934962\n"
     ]
    }
   ],
   "source": [
    "model = GradientBoostingRegressor(random_state=21, n_estimators=400)\n",
    "model.fit(full_x_train, full_y_train)\n",
    "print(\"Training set accuracy = \" + str(model.score(x_train, y_train)))"
   ]
  },
  {
   "cell_type": "code",
   "execution_count": 52,
   "metadata": {},
   "outputs": [
    {
     "data": {
      "text/html": [
       "<div>\n",
       "<style scoped>\n",
       "    .dataframe tbody tr th:only-of-type {\n",
       "        vertical-align: middle;\n",
       "    }\n",
       "\n",
       "    .dataframe tbody tr th {\n",
       "        vertical-align: top;\n",
       "    }\n",
       "\n",
       "    .dataframe thead th {\n",
       "        text-align: right;\n",
       "    }\n",
       "</style>\n",
       "<table border=\"1\" class=\"dataframe\">\n",
       "  <thead>\n",
       "    <tr style=\"text-align: right;\">\n",
       "      <th></th>\n",
       "      <th>ID</th>\n",
       "      <th>Target</th>\n",
       "    </tr>\n",
       "  </thead>\n",
       "  <tbody>\n",
       "    <tr>\n",
       "      <th>0</th>\n",
       "      <td>ID_AAcismbB</td>\n",
       "      <td>0.18</td>\n",
       "    </tr>\n",
       "    <tr>\n",
       "      <th>1</th>\n",
       "      <td>ID_AAeBMsji</td>\n",
       "      <td>0.15</td>\n",
       "    </tr>\n",
       "    <tr>\n",
       "      <th>2</th>\n",
       "      <td>ID_AAjFMjzy</td>\n",
       "      <td>0.18</td>\n",
       "    </tr>\n",
       "    <tr>\n",
       "      <th>3</th>\n",
       "      <td>ID_AAmMOEEC</td>\n",
       "      <td>0.27</td>\n",
       "    </tr>\n",
       "    <tr>\n",
       "      <th>4</th>\n",
       "      <td>ID_ABguzDxp</td>\n",
       "      <td>0.38</td>\n",
       "    </tr>\n",
       "  </tbody>\n",
       "</table>\n",
       "</div>"
      ],
      "text/plain": [
       "            ID  Target\n",
       "0  ID_AAcismbB    0.18\n",
       "1  ID_AAeBMsji    0.15\n",
       "2  ID_AAjFMjzy    0.18\n",
       "3  ID_AAmMOEEC    0.27\n",
       "4  ID_ABguzDxp    0.38"
      ]
     },
     "execution_count": 52,
     "metadata": {},
     "output_type": "execute_result"
    }
   ],
   "source": [
    "ss['Target'] = model.predict(test) \n",
    "ss.head()"
   ]
  },
  {
   "cell_type": "code",
   "execution_count": 53,
   "metadata": {},
   "outputs": [],
   "source": [
    "ss.to_csv('first_submission.csv', index=False)"
   ]
  },
  {
   "cell_type": "code",
   "execution_count": 75,
   "metadata": {},
   "outputs": [
    {
     "data": {
      "text/plain": [
       "0.6596629980405023"
      ]
     },
     "execution_count": 75,
     "metadata": {},
     "output_type": "execute_result"
    }
   ],
   "source": [
    "from sklearn.ensemble import RandomForestRegressor\n",
    "\n",
    "model = RandomForestRegressor(bootstrap = False, max_depth = 30, max_features = 'sqrt', min_samples_leaf = 2,min_samples_split = 10, n_estimators = 800) # Create the model\n",
    "model.fit(x_train, y_train) # Train it (this syntax looks the same for all sklearn models)\n",
    "model.score(x_val, y_val)"
   ]
  },
  {
   "cell_type": "code",
   "execution_count": 264,
   "metadata": {},
   "outputs": [
    {
     "data": {
      "text/plain": [
       "46"
      ]
     },
     "execution_count": 264,
     "metadata": {},
     "output_type": "execute_result"
    }
   ],
   "source": [
    "np.max([estimator.tree_.max_depth for estimator in model.estimators_])"
   ]
  },
  {
   "cell_type": "code",
   "execution_count": 76,
   "metadata": {},
   "outputs": [
    {
     "data": {
      "text/plain": [
       "0.058547751424305884"
      ]
     },
     "execution_count": 76,
     "metadata": {},
     "output_type": "execute_result"
    }
   ],
   "source": [
    "from sklearn.metrics import mean_absolute_error\n",
    "mean_absolute_error(y_val, model.predict(x_val))"
   ]
  },
  {
   "cell_type": "code",
   "execution_count": 244,
   "metadata": {},
   "outputs": [
    {
     "data": {
      "text/plain": [
       "<matplotlib.collections.PathCollection at 0x1b4877b24e0>"
      ]
     },
     "execution_count": 244,
     "metadata": {},
     "output_type": "execute_result"
    },
    {
     "data": {
      "image/png": "[encoded data removed]",
      "text/plain": [
       "<matplotlib.figure.Figure at 0x1b4abb2f588>"
      ]
     },
     "metadata": {
      "needs_background": "light"
     },
     "output_type": "display_data"
    }
   ],
   "source": [
    "plt.scatter(y_val, model.predict(x_val), alpha=0.3)"
   ]
  },
  {
   "cell_type": "code",
   "execution_count": 77,
   "metadata": {},
   "outputs": [
    {
     "name": "stdout",
     "output_type": "stream",
     "text": [
      "Training set accuracy = 0.9291290470718325\n",
      "Test set accuracy = 0.6596629980405023\n"
     ]
    }
   ],
   "source": [
    "print(\"Training set accuracy = \" + str(model.score(x_train, y_train)))\n",
    "print(\"Test set accuracy = \" + str(model.score(x_val, y_val)))"
   ]
  },
  {
   "cell_type": "code",
   "execution_count": 27,
   "metadata": {},
   "outputs": [
    {
     "data": {
      "text/plain": [
       "0.09103373016624709"
      ]
     },
     "execution_count": 27,
     "metadata": {},
     "output_type": "execute_result"
    }
   ],
   "source": [
    "from sklearn.metrics import mean_squared_error\n",
    "\n",
    "# The `squared=False` bit tells this function to return the ROOT mean squared error\n",
    "mean_squared_error(y_val, model.predict(x_val), squared=False)"
   ]
  },
  {
   "cell_type": "code",
   "execution_count": 35,
   "metadata": {},
   "outputs": [
    {
     "data": {
      "text/html": [
       "<div>\n",
       "<style scoped>\n",
       "    .dataframe tbody tr th:only-of-type {\n",
       "        vertical-align: middle;\n",
       "    }\n",
       "\n",
       "    .dataframe tbody tr th {\n",
       "        vertical-align: top;\n",
       "    }\n",
       "\n",
       "    .dataframe thead th {\n",
       "        text-align: right;\n",
       "    }\n",
       "</style>\n",
       "<table border=\"1\" class=\"dataframe\">\n",
       "  <thead>\n",
       "    <tr style=\"text-align: right;\">\n",
       "      <th></th>\n",
       "      <th>ID</th>\n",
       "      <th>Target</th>\n",
       "    </tr>\n",
       "  </thead>\n",
       "  <tbody>\n",
       "    <tr>\n",
       "      <th>0</th>\n",
       "      <td>ID_AAcismbB</td>\n",
       "      <td>0.080721</td>\n",
       "    </tr>\n",
       "    <tr>\n",
       "      <th>1</th>\n",
       "      <td>ID_AAeBMsji</td>\n",
       "      <td>0.202167</td>\n",
       "    </tr>\n",
       "    <tr>\n",
       "      <th>2</th>\n",
       "      <td>ID_AAjFMjzy</td>\n",
       "      <td>0.489627</td>\n",
       "    </tr>\n",
       "    <tr>\n",
       "      <th>3</th>\n",
       "      <td>ID_AAmMOEEC</td>\n",
       "      <td>0.408805</td>\n",
       "    </tr>\n",
       "    <tr>\n",
       "      <th>4</th>\n",
       "      <td>ID_ABguzDxp</td>\n",
       "      <td>0.242210</td>\n",
       "    </tr>\n",
       "  </tbody>\n",
       "</table>\n",
       "</div>"
      ],
      "text/plain": [
       "            ID    Target\n",
       "0  ID_AAcismbB  0.080721\n",
       "1  ID_AAeBMsji  0.202167\n",
       "2  ID_AAjFMjzy  0.489627\n",
       "3  ID_AAmMOEEC  0.408805\n",
       "4  ID_ABguzDxp  0.242210"
      ]
     },
     "execution_count": 35,
     "metadata": {},
     "output_type": "execute_result"
    }
   ],
   "source": [
    "ss['Target'] = model.predict(test) \n",
    "ss.head()"
   ]
  },
  {
   "cell_type": "code",
   "execution_count": 36,
   "metadata": {},
   "outputs": [],
   "source": [
    "ss.to_csv('first_submission.csv', index=False)"
   ]
  },
  {
   "cell_type": "code",
   "execution_count": 78,
   "metadata": {},
   "outputs": [
    {
     "data": {
      "text/plain": [
       "0.06141460190182593"
      ]
     },
     "execution_count": 78,
     "metadata": {},
     "output_type": "execute_result"
    }
   ],
   "source": [
    "from sklearn import datasets, ensemble\n",
    "reg = ensemble.GradientBoostingRegressor()\n",
    "reg.fit(x_train, y_train)\n",
    "mean_absolute_error(y_val, reg.predict(x_val))"
   ]
  },
  {
   "cell_type": "code",
   "execution_count": 79,
   "metadata": {},
   "outputs": [
    {
     "name": "stdout",
     "output_type": "stream",
     "text": [
      "Training set accuracy = 0.6713191526712277\n",
      "Test set accuracy = 0.6390466739444274\n"
     ]
    }
   ],
   "source": [
    "print(\"Training set accuracy = \" + str(reg.score(x_train, y_train)))\n",
    "print(\"Test set accuracy = \" + str(reg.score(x_val, y_val)))"
   ]
  },
  {
   "cell_type": "code",
   "execution_count": 81,
   "metadata": {},
   "outputs": [
    {
     "data": {
      "text/html": [
       "<div>\n",
       "<style scoped>\n",
       "    .dataframe tbody tr th:only-of-type {\n",
       "        vertical-align: middle;\n",
       "    }\n",
       "\n",
       "    .dataframe tbody tr th {\n",
       "        vertical-align: top;\n",
       "    }\n",
       "\n",
       "    .dataframe thead th {\n",
       "        text-align: right;\n",
       "    }\n",
       "</style>\n",
       "<table border=\"1\" class=\"dataframe\">\n",
       "  <thead>\n",
       "    <tr style=\"text-align: right;\">\n",
       "      <th></th>\n",
       "      <th>ID</th>\n",
       "      <th>Target</th>\n",
       "    </tr>\n",
       "  </thead>\n",
       "  <tbody>\n",
       "    <tr>\n",
       "      <th>0</th>\n",
       "      <td>ID_AAcismbB</td>\n",
       "      <td>0.261891</td>\n",
       "    </tr>\n",
       "    <tr>\n",
       "      <th>1</th>\n",
       "      <td>ID_AAeBMsji</td>\n",
       "      <td>0.403810</td>\n",
       "    </tr>\n",
       "    <tr>\n",
       "      <th>2</th>\n",
       "      <td>ID_AAjFMjzy</td>\n",
       "      <td>0.729041</td>\n",
       "    </tr>\n",
       "    <tr>\n",
       "      <th>3</th>\n",
       "      <td>ID_AAmMOEEC</td>\n",
       "      <td>0.670066</td>\n",
       "    </tr>\n",
       "    <tr>\n",
       "      <th>4</th>\n",
       "      <td>ID_ABguzDxp</td>\n",
       "      <td>0.492047</td>\n",
       "    </tr>\n",
       "  </tbody>\n",
       "</table>\n",
       "</div>"
      ],
      "text/plain": [
       "            ID    Target\n",
       "0  ID_AAcismbB  0.261891\n",
       "1  ID_AAeBMsji  0.403810\n",
       "2  ID_AAjFMjzy  0.729041\n",
       "3  ID_AAmMOEEC  0.670066\n",
       "4  ID_ABguzDxp  0.492047"
      ]
     },
     "execution_count": 81,
     "metadata": {},
     "output_type": "execute_result"
    }
   ],
   "source": [
    "ss['Target'] = reg.predict(test) \n",
    "ss.head()"
   ]
  },
  {
   "cell_type": "code",
   "execution_count": 82,
   "metadata": {},
   "outputs": [],
   "source": [
    "ss.to_csv('first_submission.csv', index=False)"
   ]
  },
  {
   "cell_type": "code",
   "execution_count": 83,
   "metadata": {},
   "outputs": [
    {
     "data": {
      "text/plain": [
       "0.060169670672570216"
      ]
     },
     "execution_count": 83,
     "metadata": {},
     "output_type": "execute_result"
    }
   ],
   "source": [
    "reg2 = ensemble.GradientBoostingRegressor(n_estimators=150)\n",
    "reg2.fit(x_train, y_train)\n",
    "mean_absolute_error(y_val, reg2.predict(x_val))"
   ]
  },
  {
   "cell_type": "code",
   "execution_count": 84,
   "metadata": {},
   "outputs": [
    {
     "name": "stdout",
     "output_type": "stream",
     "text": [
      "Training set accuracy = 0.6924848464383473\n",
      "Test set accuracy = 0.6507808339729098\n"
     ]
    }
   ],
   "source": [
    "print(\"Training set accuracy = \" + str(reg2.score(x_train, y_train)))\n",
    "print(\"Test set accuracy = \" + str(reg2.score(x_val, y_val)))"
   ]
  },
  {
   "cell_type": "code",
   "execution_count": 74,
   "metadata": {},
   "outputs": [
    {
     "data": {
      "text/html": [
       "<div>\n",
       "<style scoped>\n",
       "    .dataframe tbody tr th:only-of-type {\n",
       "        vertical-align: middle;\n",
       "    }\n",
       "\n",
       "    .dataframe tbody tr th {\n",
       "        vertical-align: top;\n",
       "    }\n",
       "\n",
       "    .dataframe thead th {\n",
       "        text-align: right;\n",
       "    }\n",
       "</style>\n",
       "<table border=\"1\" class=\"dataframe\">\n",
       "  <thead>\n",
       "    <tr style=\"text-align: right;\">\n",
       "      <th></th>\n",
       "      <th>ID</th>\n",
       "      <th>Target</th>\n",
       "    </tr>\n",
       "  </thead>\n",
       "  <tbody>\n",
       "    <tr>\n",
       "      <th>0</th>\n",
       "      <td>ID_AAcismbB</td>\n",
       "      <td>0.140178</td>\n",
       "    </tr>\n",
       "    <tr>\n",
       "      <th>1</th>\n",
       "      <td>ID_AAeBMsji</td>\n",
       "      <td>0.181296</td>\n",
       "    </tr>\n",
       "    <tr>\n",
       "      <th>2</th>\n",
       "      <td>ID_AAjFMjzy</td>\n",
       "      <td>0.586713</td>\n",
       "    </tr>\n",
       "    <tr>\n",
       "      <th>3</th>\n",
       "      <td>ID_AAmMOEEC</td>\n",
       "      <td>0.406987</td>\n",
       "    </tr>\n",
       "    <tr>\n",
       "      <th>4</th>\n",
       "      <td>ID_ABguzDxp</td>\n",
       "      <td>0.250190</td>\n",
       "    </tr>\n",
       "  </tbody>\n",
       "</table>\n",
       "</div>"
      ],
      "text/plain": [
       "            ID    Target\n",
       "0  ID_AAcismbB  0.140178\n",
       "1  ID_AAeBMsji  0.181296\n",
       "2  ID_AAjFMjzy  0.586713\n",
       "3  ID_AAmMOEEC  0.406987\n",
       "4  ID_ABguzDxp  0.250190"
      ]
     },
     "execution_count": 74,
     "metadata": {},
     "output_type": "execute_result"
    }
   ],
   "source": [
    "ss['Target'] = reg.predict(test[my_cols]) \n",
    "ss.head()"
   ]
  },
  {
   "cell_type": "code",
   "execution_count": 75,
   "metadata": {},
   "outputs": [],
   "source": [
    "ss.to_csv('fourth_submission.csv', index=False)"
   ]
  },
  {
   "cell_type": "code",
   "execution_count": 63,
   "metadata": {},
   "outputs": [
    {
     "data": {
      "text/plain": [
       "MLPRegressor(alpha=0.01, hidden_layer_sizes=(300, 200, 200, 300),\n",
       "             learning_rate='adaptive', max_iter=500)"
      ]
     },
     "execution_count": 63,
     "metadata": {},
     "output_type": "execute_result"
    }
   ],
   "source": [
    "from sklearn.neural_network import MLPRegressor\n",
    "regressor = MLPRegressor(hidden_layer_sizes = (300, 200, 200, 300), activation = 'relu', solver = 'adam', max_iter = 500, learning_rate = 'adaptive', alpha=0.01)\n",
    "regressor.fit(x_train, y_train)"
   ]
  },
  {
   "cell_type": "code",
   "execution_count": 64,
   "metadata": {},
   "outputs": [
    {
     "data": {
      "text/plain": [
       "0.008881605772246984"
      ]
     },
     "execution_count": 64,
     "metadata": {},
     "output_type": "execute_result"
    }
   ],
   "source": [
    "mean_squared_error(y_val, regressor.predict(x_val))"
   ]
  },
  {
   "cell_type": "code",
   "execution_count": 65,
   "metadata": {},
   "outputs": [
    {
     "name": "stdout",
     "output_type": "stream",
     "text": [
      "Training set accuracy = 0.8095410826571864\n",
      "Test set accuracy = 0.7612469059663887\n"
     ]
    }
   ],
   "source": [
    "print(\"Training set accuracy = \" + str(regressor.score(x_train, y_train)))\n",
    "print(\"Test set accuracy = \" + str(regressor.score(x_val, y_val)))"
   ]
  },
  {
   "cell_type": "code",
   "execution_count": 66,
   "metadata": {},
   "outputs": [
    {
     "data": {
      "text/html": [
       "<div>\n",
       "<style scoped>\n",
       "    .dataframe tbody tr th:only-of-type {\n",
       "        vertical-align: middle;\n",
       "    }\n",
       "\n",
       "    .dataframe tbody tr th {\n",
       "        vertical-align: top;\n",
       "    }\n",
       "\n",
       "    .dataframe thead th {\n",
       "        text-align: right;\n",
       "    }\n",
       "</style>\n",
       "<table border=\"1\" class=\"dataframe\">\n",
       "  <thead>\n",
       "    <tr style=\"text-align: right;\">\n",
       "      <th></th>\n",
       "      <th>ID</th>\n",
       "      <th>Target</th>\n",
       "    </tr>\n",
       "  </thead>\n",
       "  <tbody>\n",
       "    <tr>\n",
       "      <th>0</th>\n",
       "      <td>ID_AAcismbB</td>\n",
       "      <td>0.149561</td>\n",
       "    </tr>\n",
       "    <tr>\n",
       "      <th>1</th>\n",
       "      <td>ID_AAeBMsji</td>\n",
       "      <td>0.268977</td>\n",
       "    </tr>\n",
       "    <tr>\n",
       "      <th>2</th>\n",
       "      <td>ID_AAjFMjzy</td>\n",
       "      <td>0.604845</td>\n",
       "    </tr>\n",
       "    <tr>\n",
       "      <th>3</th>\n",
       "      <td>ID_AAmMOEEC</td>\n",
       "      <td>0.328188</td>\n",
       "    </tr>\n",
       "    <tr>\n",
       "      <th>4</th>\n",
       "      <td>ID_ABguzDxp</td>\n",
       "      <td>0.162401</td>\n",
       "    </tr>\n",
       "  </tbody>\n",
       "</table>\n",
       "</div>"
      ],
      "text/plain": [
       "            ID    Target\n",
       "0  ID_AAcismbB  0.149561\n",
       "1  ID_AAeBMsji  0.268977\n",
       "2  ID_AAjFMjzy  0.604845\n",
       "3  ID_AAmMOEEC  0.328188\n",
       "4  ID_ABguzDxp  0.162401"
      ]
     },
     "execution_count": 66,
     "metadata": {},
     "output_type": "execute_result"
    }
   ],
   "source": [
    "ss['Target'] = regressor.predict(test[my_cols]) \n",
    "ss.head()"
   ]
  },
  {
   "cell_type": "code",
   "execution_count": 67,
   "metadata": {},
   "outputs": [],
   "source": [
    "ss.to_csv('third_submission.csv', index=False)"
   ]
  },
  {
   "cell_type": "code",
   "execution_count": 94,
   "metadata": {},
   "outputs": [
    {
     "name": "stdout",
     "output_type": "stream",
     "text": [
      "Model: \"sequential_9\"\n",
      "_________________________________________________________________\n",
      "Layer (type)                 Output Shape              Param #   \n",
      "=================================================================\n",
      "dense_21 (Dense)             (None, 17)                306       \n",
      "_________________________________________________________________\n",
      "dense_22 (Dense)             (None, 64)                1152      \n",
      "_________________________________________________________________\n",
      "dense_23 (Dense)             (None, 1)                 65        \n",
      "=================================================================\n",
      "Total params: 1,523\n",
      "Trainable params: 1,523\n",
      "Non-trainable params: 0\n",
      "_________________________________________________________________\n",
      "Train on 17163 samples, validate on 4291 samples\n",
      "Epoch 1/30\n",
      "17163/17163 [==============================] - 5s 278us/step - loss: 0.1279 - mae: 0.0998 - val_loss: 0.0149 - val_mae: 0.0892\n",
      "Epoch 2/30\n",
      "17163/17163 [==============================] - 4s 251us/step - loss: 0.0148 - mae: 0.0915 - val_loss: 0.0194 - val_mae: 0.1068\n",
      "Epoch 3/30\n",
      "17163/17163 [==============================] - 4s 246us/step - loss: 0.0142 - mae: 0.0895 - val_loss: 0.0143 - val_mae: 0.0892\n",
      "Epoch 4/30\n",
      "17163/17163 [==============================] - 4s 251us/step - loss: 0.0137 - mae: 0.0881 - val_loss: 0.0160 - val_mae: 0.0899\n",
      "Epoch 5/30\n",
      "17163/17163 [==============================] - 4s 241us/step - loss: 0.0135 - mae: 0.0871 - val_loss: 0.0145 - val_mae: 0.0857\n",
      "Epoch 6/30\n",
      "17163/17163 [==============================] - 4s 243us/step - loss: 0.0133 - mae: 0.0867 - val_loss: 0.0133 - val_mae: 0.0836\n",
      "Epoch 7/30\n",
      "17163/17163 [==============================] - 4s 242us/step - loss: 0.0130 - mae: 0.0858 - val_loss: 0.0149 - val_mae: 0.0878\n",
      "Epoch 8/30\n",
      "17163/17163 [==============================] - 4s 250us/step - loss: 0.0129 - mae: 0.0855 - val_loss: 0.0135 - val_mae: 0.0831\n",
      "Epoch 9/30\n",
      "17163/17163 [==============================] - 4s 250us/step - loss: 0.0127 - mae: 0.0846 - val_loss: 0.0175 - val_mae: 0.1047\n",
      "Epoch 10/30\n",
      "17163/17163 [==============================] - 4s 249us/step - loss: 0.0126 - mae: 0.0841 - val_loss: 0.0127 - val_mae: 0.0843\n",
      "Epoch 11/30\n",
      "17163/17163 [==============================] - 4s 245us/step - loss: 0.0125 - mae: 0.0837 - val_loss: 0.0143 - val_mae: 0.0903\n",
      "Epoch 12/30\n",
      "17163/17163 [==============================] - 4s 248us/step - loss: 0.0124 - mae: 0.0835 - val_loss: 0.0146 - val_mae: 0.0892\n",
      "Epoch 13/30\n",
      "17163/17163 [==============================] - 4s 248us/step - loss: 0.0122 - mae: 0.0829 - val_loss: 0.0145 - val_mae: 0.0866\n",
      "Epoch 14/30\n",
      "17163/17163 [==============================] - 4s 248us/step - loss: 0.0122 - mae: 0.0827 - val_loss: 0.0126 - val_mae: 0.0813\n",
      "Epoch 15/30\n",
      "17163/17163 [==============================] - 4s 253us/step - loss: 0.0121 - mae: 0.0824 - val_loss: 0.0125 - val_mae: 0.0817\n",
      "Epoch 16/30\n",
      "17163/17163 [==============================] - 4s 248us/step - loss: 0.0121 - mae: 0.0823 - val_loss: 0.0123 - val_mae: 0.0815\n",
      "Epoch 17/30\n",
      "17163/17163 [==============================] - 4s 245us/step - loss: 0.0120 - mae: 0.0822 - val_loss: 0.0134 - val_mae: 0.0824\n",
      "Epoch 18/30\n",
      "17163/17163 [==============================] - 4s 249us/step - loss: 0.0120 - mae: 0.0821 - val_loss: 0.0154 - val_mae: 0.0900\n",
      "Epoch 19/30\n",
      "17163/17163 [==============================] - 4s 248us/step - loss: 0.0119 - mae: 0.0814 - val_loss: 0.0124 - val_mae: 0.0810\n",
      "Epoch 20/30\n",
      "17163/17163 [==============================] - 4s 245us/step - loss: 0.0118 - mae: 0.0814 - val_loss: 0.0123 - val_mae: 0.0832\n",
      "Epoch 21/30\n",
      "17163/17163 [==============================] - 4s 250us/step - loss: 0.0118 - mae: 0.0812 - val_loss: 0.0126 - val_mae: 0.0822\n",
      "Epoch 22/30\n",
      "17163/17163 [==============================] - 4s 248us/step - loss: 0.0117 - mae: 0.0813 - val_loss: 0.0123 - val_mae: 0.0811\n",
      "Epoch 23/30\n",
      "17163/17163 [==============================] - 4s 248us/step - loss: 0.0116 - mae: 0.0809 - val_loss: 0.0133 - val_mae: 0.0826\n",
      "Epoch 24/30\n",
      "17163/17163 [==============================] - 4s 247us/step - loss: 0.0116 - mae: 0.0809 - val_loss: 0.0122 - val_mae: 0.0819\n",
      "Epoch 25/30\n",
      "17163/17163 [==============================] - 4s 245us/step - loss: 0.0117 - mae: 0.0809 - val_loss: 0.0124 - val_mae: 0.0802\n",
      "Epoch 26/30\n",
      "17163/17163 [==============================] - 4s 249us/step - loss: 0.0115 - mae: 0.0802 - val_loss: 0.0119 - val_mae: 0.0810\n",
      "Epoch 27/30\n",
      "17163/17163 [==============================] - 4s 247us/step - loss: 0.0114 - mae: 0.0803 - val_loss: 0.0120 - val_mae: 0.0819\n",
      "Epoch 28/30\n",
      "17163/17163 [==============================] - 4s 250us/step - loss: 0.0114 - mae: 0.0799 - val_loss: 0.0133 - val_mae: 0.0892\n",
      "Epoch 29/30\n",
      "17163/17163 [==============================] - 4s 245us/step - loss: 0.0114 - mae: 0.0801 - val_loss: 0.0123 - val_mae: 0.0830\n",
      "Epoch 30/30\n",
      "17163/17163 [==============================] - 4s 250us/step - loss: 0.0114 - mae: 0.0798 - val_loss: 0.0135 - val_mae: 0.0832\n"
     ]
    }
   ],
   "source": [
    "model = Sequential()\n",
    "model.add(Dense(17, activation='relu', input_shape= (17,)))\n",
    "model.add(Dense(64, activation='relu',kernel_regularizer=l2(0.1)))\n",
    "#model.add(Dense(64, activation='relu'))\n",
    "model.add(Dense(1))\n",
    "model.summary()\n",
    "          \n",
    "model.compile(optimizer='rmsprop', loss='mse', metrics=['mae'])\n",
    "history = model.fit(x_train, y_train,\n",
    "                    epochs=30,\n",
    "                    batch_size=10,\n",
    "                    validation_data=(x_val, y_val))"
   ]
  },
  {
   "cell_type": "code",
   "execution_count": 92,
   "metadata": {},
   "outputs": [
    {
     "data": {
      "text/html": [
       "<div>\n",
       "<style scoped>\n",
       "    .dataframe tbody tr th:only-of-type {\n",
       "        vertical-align: middle;\n",
       "    }\n",
       "\n",
       "    .dataframe tbody tr th {\n",
       "        vertical-align: top;\n",
       "    }\n",
       "\n",
       "    .dataframe thead th {\n",
       "        text-align: right;\n",
       "    }\n",
       "</style>\n",
       "<table border=\"1\" class=\"dataframe\">\n",
       "  <thead>\n",
       "    <tr style=\"text-align: right;\">\n",
       "      <th></th>\n",
       "      <th>ID</th>\n",
       "      <th>Target</th>\n",
       "    </tr>\n",
       "  </thead>\n",
       "  <tbody>\n",
       "    <tr>\n",
       "      <th>0</th>\n",
       "      <td>ID_AAcismbB</td>\n",
       "      <td>0.149561</td>\n",
       "    </tr>\n",
       "    <tr>\n",
       "      <th>1</th>\n",
       "      <td>ID_AAeBMsji</td>\n",
       "      <td>0.268977</td>\n",
       "    </tr>\n",
       "    <tr>\n",
       "      <th>2</th>\n",
       "      <td>ID_AAjFMjzy</td>\n",
       "      <td>0.604845</td>\n",
       "    </tr>\n",
       "    <tr>\n",
       "      <th>3</th>\n",
       "      <td>ID_AAmMOEEC</td>\n",
       "      <td>0.328188</td>\n",
       "    </tr>\n",
       "    <tr>\n",
       "      <th>4</th>\n",
       "      <td>ID_ABguzDxp</td>\n",
       "      <td>0.162401</td>\n",
       "    </tr>\n",
       "  </tbody>\n",
       "</table>\n",
       "</div>"
      ],
      "text/plain": [
       "            ID    Target\n",
       "0  ID_AAcismbB  0.149561\n",
       "1  ID_AAeBMsji  0.268977\n",
       "2  ID_AAjFMjzy  0.604845\n",
       "3  ID_AAmMOEEC  0.328188\n",
       "4  ID_ABguzDxp  0.162401"
      ]
     },
     "execution_count": 92,
     "metadata": {},
     "output_type": "execute_result"
    }
   ],
   "source": [
    "ss['Target'] = regressor.predict(test[my_cols]) \n",
    "ss.head()"
   ]
  },
  {
   "cell_type": "code",
   "execution_count": 93,
   "metadata": {},
   "outputs": [],
   "source": [
    "ss.to_csv('fifth_submission.csv', index=False)"
   ]
  },
  {
   "cell_type": "code",
   "execution_count": 91,
   "metadata": {},
   "outputs": [
    {
     "data": {
      "image/png": "[encoded data removed]",
      "text/plain": [
       "<matplotlib.figure.Figure at 0x1b4b1403e10>"
      ]
     },
     "metadata": {
      "needs_background": "light"
     },
     "output_type": "display_data"
    },
    {
     "data": {
      "image/png": "[encoded data removed]",
      "text/plain": [
       "<matplotlib.figure.Figure at 0x1b4b142e128>"
      ]
     },
     "metadata": {
      "needs_background": "light"
     },
     "output_type": "display_data"
    }
   ],
   "source": [
    "mae = history.history['mae']\n",
    "val_mae = history.history['val_mae']\n",
    "loss = history.history['loss']\n",
    "val_loss = history.history['val_loss']\n",
    "\n",
    "epochs = range(1, len(mae) + 1)\n",
    "\n",
    "plt.plot(epochs, mae, 'bo', label='Training mae')\n",
    "plt.plot(epochs, val_mae, 'b', label='Validation mae')\n",
    "plt.title('Training and validation mean absolute error')\n",
    "plt.legend()\n",
    "\n",
    "plt.figure()\n",
    "\n",
    "plt.plot(epochs, loss, 'bo', label='Training loss')\n",
    "plt.plot(epochs, val_loss, 'b', label='Validation loss')\n",
    "plt.title('Training and validation loss')\n",
    "plt.legend()\n",
    "\n",
    "plt.show()"
   ]
  },
  {
   "cell_type": "markdown",
   "metadata": {},
   "source": [
    "# Modelling\n",
    "\n",
    "We've had a look at our data and it looks good! Let's see if we can create a model to predict the Target given some of our inputs. To start with we will use only the numeric columns, so that we can fit a model right away. "
   ]
  },
  {
   "cell_type": "code",
   "execution_count": 11,
   "metadata": {},
   "outputs": [
    {
     "name": "stdout",
     "output_type": "stream",
     "text": [
      "Input columns: ['ghsl_water_surface', 'ghsl_built_pre_1975', 'ghsl_built_1975_to_1990', 'ghsl_built_1990_to_2000', 'ghsl_built_2000_to_2014', 'ghsl_not_built_up', 'ghsl_pop_density', 'landcover_crops_fraction', 'landcover_urban_fraction', 'landcover_water_permanent_10km_fraction', 'landcover_water_seasonal_10km_fraction', 'nighttime_lights', 'dist_to_capital', 'dist_to_shoreline']\n"
     ]
    }
   ],
   "source": [
    "in_cols = list(train.columns[4:-1])\n",
    "print('Input columns:', in_cols)"
   ]
  },
  {
   "cell_type": "markdown",
   "metadata": {},
   "source": [
    "To evaluate our model, we need to keep some data separate. We will split out data into X (inputs) and y (output) and then further split into train and test sets with the following code:"
   ]
  },
  {
   "cell_type": "code",
   "execution_count": 12,
   "metadata": {},
   "outputs": [
    {
     "name": "stdout",
     "output_type": "stream",
     "text": [
      "(17163, 14) (4291, 14)\n"
     ]
    }
   ],
   "source": [
    "from sklearn.model_selection import train_test_split\n",
    "\n",
    "X, y = train[in_cols], train['Target']\n",
    "X_train, X_test, y_train, y_test = train_test_split(X, y, test_size=0.2, random_state=58) # Random state keeps the split consistent\n",
    "print(X_train.shape, X_test.shape)"
   ]
  },
  {
   "cell_type": "markdown",
   "metadata": {},
   "source": [
    "We now have a nice test set of ~4200 rows. We will train our model and then use this test set to calculate our score."
   ]
  },
  {
   "cell_type": "code",
   "execution_count": 13,
   "metadata": {},
   "outputs": [
    {
     "data": {
      "text/plain": [
       "0.701354568937301"
      ]
     },
     "execution_count": 13,
     "metadata": {},
     "output_type": "execute_result"
    }
   ],
   "source": [
    "from sklearn.ensemble import RandomForestRegressor\n",
    "\n",
    "model = RandomForestRegressor() # Create the model\n",
    "model.fit(X_train, y_train) # Train it (this syntax looks the same for all sklearn models)\n",
    "model.score(X_test, y_test) # Show a score"
   ]
  },
  {
   "cell_type": "markdown",
   "metadata": {},
   "source": [
    "What is the score above? The default for regression models is the R^2 score, a measure of how well the mode does at predicting the target. 0.69 is pretty good - let's plot the predictions vs the actual values and see how close it looks to a straight line:"
   ]
  },
  {
   "cell_type": "code",
   "execution_count": 14,
   "metadata": {},
   "outputs": [
    {
     "data": {
      "text/plain": [
       "<matplotlib.collections.PathCollection at 0x7f1391ebb710>"
      ]
     },
     "execution_count": 14,
     "metadata": {},
     "output_type": "execute_result"
    },
    {
     "data": {
      "image/png": "[encoded data removed]",
      "text/plain": [
       "<Figure size 432x288 with 1 Axes>"
      ]
     },
     "metadata": {
      "needs_background": "light"
     },
     "output_type": "display_data"
    }
   ],
   "source": [
    "from matplotlib import pyplot as plt\n",
    "plt.scatter(y_test, model.predict(X_test), alpha=0.3)"
   ]
  },
  {
   "cell_type": "markdown",
   "metadata": {},
   "source": [
    "This looks great - most predictions are nice and close to the true value! But we still don't have a way to link this to the leaderboard score on Zindi. Let's remedy that by calculating the Root Mean Squared Error, the same metric Zindi uses. "
   ]
  },
  {
   "cell_type": "code",
   "execution_count": 15,
   "metadata": {},
   "outputs": [
    {
     "data": {
      "text/plain": [
       "0.10586008172823101"
      ]
     },
     "execution_count": 15,
     "metadata": {},
     "output_type": "execute_result"
    }
   ],
   "source": [
    "from sklearn.metrics import mean_squared_error\n",
    "\n",
    "# The `squared=False` bit tells this function to return the ROOT mean squared error\n",
    "mean_squared_error(y_test, model.predict(X_test), squared=False)"
   ]
  },
  {
   "cell_type": "markdown",
   "metadata": {},
   "source": [
    "Great stuff. Let's make a submission and then move on to looking for ways to improve."
   ]
  },
  {
   "cell_type": "code",
   "execution_count": 16,
   "metadata": {},
   "outputs": [
    {
     "data": {
      "text/html": [
       "<div>\n",
       "<style scoped>\n",
       "    .dataframe tbody tr th:only-of-type {\n",
       "        vertical-align: middle;\n",
       "    }\n",
       "\n",
       "    .dataframe tbody tr th {\n",
       "        vertical-align: top;\n",
       "    }\n",
       "\n",
       "    .dataframe thead th {\n",
       "        text-align: right;\n",
       "    }\n",
       "</style>\n",
       "<table border=\"1\" class=\"dataframe\">\n",
       "  <thead>\n",
       "    <tr style=\"text-align: right;\">\n",
       "      <th></th>\n",
       "      <th>ID</th>\n",
       "      <th>Target</th>\n",
       "    </tr>\n",
       "  </thead>\n",
       "  <tbody>\n",
       "    <tr>\n",
       "      <th>0</th>\n",
       "      <td>ID_sSinQhqP</td>\n",
       "      <td>0.631595</td>\n",
       "    </tr>\n",
       "    <tr>\n",
       "      <th>1</th>\n",
       "      <td>ID_jvZoqYpZ</td>\n",
       "      <td>0.600302</td>\n",
       "    </tr>\n",
       "    <tr>\n",
       "      <th>2</th>\n",
       "      <td>ID_tLfuexnp</td>\n",
       "      <td>0.175044</td>\n",
       "    </tr>\n",
       "    <tr>\n",
       "      <th>3</th>\n",
       "      <td>ID_ubXQyliz</td>\n",
       "      <td>0.277712</td>\n",
       "    </tr>\n",
       "    <tr>\n",
       "      <th>4</th>\n",
       "      <td>ID_HQVlNyEW</td>\n",
       "      <td>0.448756</td>\n",
       "    </tr>\n",
       "  </tbody>\n",
       "</table>\n",
       "</div>"
      ],
      "text/plain": [
       "            ID    Target\n",
       "0  ID_sSinQhqP  0.631595\n",
       "1  ID_jvZoqYpZ  0.600302\n",
       "2  ID_tLfuexnp  0.175044\n",
       "3  ID_ubXQyliz  0.277712\n",
       "4  ID_HQVlNyEW  0.448756"
      ]
     },
     "execution_count": 16,
     "metadata": {},
     "output_type": "execute_result"
    }
   ],
   "source": [
    "# Copying our predictions into the submission dataframe - make sure the rows are in the same order!\n",
    "ss['Target'] = model.predict(test[in_cols]) \n",
    "ss.head()"
   ]
  },
  {
   "cell_type": "markdown",
   "metadata": {},
   "source": [
    "We now have our predictions in the right format to submit. The following line saves this to a file that you can then upload to get a score:"
   ]
  },
  {
   "cell_type": "code",
   "execution_count": 17,
   "metadata": {},
   "outputs": [],
   "source": [
    "ss.to_csv('first_submission.csv', index=False)"
   ]
  },
  {
   "cell_type": "markdown",
   "metadata": {},
   "source": [
    "# Getting Better\n",
    "\n",
    "You might have noticed that your score on Zindi wasn't as good as the one you got above. This is because the test set comes from different countries to the train set. When we did a random split, we ended up with our local train and test both coming from the same countries - and it's easier for a model to extrapolate within countries than it is for it to make predictions for a new location. \n",
    "\n",
    "So our first step might be to make a scoring function that splits the data according to country, and measures the model performance on unseen countries. Try it and share your testing methods in the discussions. And look at the following questions:\n",
    "- Does your score drop when you score your model on countries it wasn't trained with?\n",
    "- Does the new score more accurately match the leaderboard score?\n",
    "- Are any countries particularly 'hard' to make predictions in?"
   ]
  },
  {
   "cell_type": "code",
   "execution_count": 18,
   "metadata": {},
   "outputs": [],
   "source": [
    "# You code for a enw model evaluation method here"
   ]
  },
  {
   "cell_type": "markdown",
   "metadata": {},
   "source": [
    "Knowing how well our model is doing is useful, but however you measure that we also need ways to improve this performance! There are a few ways to do this:\n",
    "\n",
    "- Feed the model better data. How? Feature engineering! If we can add meaningful features the model will have more data to work with.\n",
    "- Tune your models. We used the default parameters - perhaps we can tweak some hyperparameters to make our models better\n",
    "- Try fancier models. Perhaps XGBoost or a neural network is better than Random Forest at this task\n",
    "\n",
    "Let's do a little of each. First up, let's create a numeric feature that encodes the 'urban_or_rural' column as something the model can use:"
   ]
  },
  {
   "cell_type": "code",
   "execution_count": 19,
   "metadata": {},
   "outputs": [
    {
     "data": {
      "text/html": [
       "<div>\n",
       "<style scoped>\n",
       "    .dataframe tbody tr th:only-of-type {\n",
       "        vertical-align: middle;\n",
       "    }\n",
       "\n",
       "    .dataframe tbody tr th {\n",
       "        vertical-align: top;\n",
       "    }\n",
       "\n",
       "    .dataframe thead th {\n",
       "        text-align: right;\n",
       "    }\n",
       "</style>\n",
       "<table border=\"1\" class=\"dataframe\">\n",
       "  <thead>\n",
       "    <tr style=\"text-align: right;\">\n",
       "      <th></th>\n",
       "      <th>ID</th>\n",
       "      <th>country</th>\n",
       "      <th>year</th>\n",
       "      <th>urban_or_rural</th>\n",
       "      <th>ghsl_water_surface</th>\n",
       "      <th>ghsl_built_pre_1975</th>\n",
       "      <th>ghsl_built_1975_to_1990</th>\n",
       "      <th>ghsl_built_1990_to_2000</th>\n",
       "      <th>ghsl_built_2000_to_2014</th>\n",
       "      <th>ghsl_not_built_up</th>\n",
       "      <th>ghsl_pop_density</th>\n",
       "      <th>landcover_crops_fraction</th>\n",
       "      <th>landcover_urban_fraction</th>\n",
       "      <th>landcover_water_permanent_10km_fraction</th>\n",
       "      <th>landcover_water_seasonal_10km_fraction</th>\n",
       "      <th>nighttime_lights</th>\n",
       "      <th>dist_to_capital</th>\n",
       "      <th>dist_to_shoreline</th>\n",
       "      <th>Target</th>\n",
       "      <th>is_urban</th>\n",
       "    </tr>\n",
       "  </thead>\n",
       "  <tbody>\n",
       "    <tr>\n",
       "      <th>0</th>\n",
       "      <td>ID_FozRqdOb</td>\n",
       "      <td>Kenya</td>\n",
       "      <td>2014</td>\n",
       "      <td>R</td>\n",
       "      <td>0.000000</td>\n",
       "      <td>0.000168</td>\n",
       "      <td>0.001421</td>\n",
       "      <td>0.002692</td>\n",
       "      <td>0.002674</td>\n",
       "      <td>0.993045</td>\n",
       "      <td>50.425021</td>\n",
       "      <td>24.253201</td>\n",
       "      <td>1.445659</td>\n",
       "      <td>0.005773</td>\n",
       "      <td>0.012893</td>\n",
       "      <td>5.049761</td>\n",
       "      <td>422.115084</td>\n",
       "      <td>9.722168</td>\n",
       "      <td>0.287117</td>\n",
       "      <td>0</td>\n",
       "    </tr>\n",
       "    <tr>\n",
       "      <th>1</th>\n",
       "      <td>ID_FVZwryih</td>\n",
       "      <td>Mali</td>\n",
       "      <td>2012</td>\n",
       "      <td>U</td>\n",
       "      <td>0.044830</td>\n",
       "      <td>0.099422</td>\n",
       "      <td>0.312117</td>\n",
       "      <td>0.017019</td>\n",
       "      <td>0.179486</td>\n",
       "      <td>0.347125</td>\n",
       "      <td>538.662650</td>\n",
       "      <td>5.607670</td>\n",
       "      <td>67.043337</td>\n",
       "      <td>1.996433</td>\n",
       "      <td>3.865877</td>\n",
       "      <td>48.076082</td>\n",
       "      <td>9.175895</td>\n",
       "      <td>692.426122</td>\n",
       "      <td>0.672988</td>\n",
       "      <td>1</td>\n",
       "    </tr>\n",
       "    <tr>\n",
       "      <th>2</th>\n",
       "      <td>ID_xcldHqPg</td>\n",
       "      <td>Sierra Leone</td>\n",
       "      <td>2013</td>\n",
       "      <td>R</td>\n",
       "      <td>0.000000</td>\n",
       "      <td>0.009695</td>\n",
       "      <td>0.002337</td>\n",
       "      <td>0.010204</td>\n",
       "      <td>0.022974</td>\n",
       "      <td>0.954791</td>\n",
       "      <td>18.041226</td>\n",
       "      <td>4.646198</td>\n",
       "      <td>5.546402</td>\n",
       "      <td>0.012301</td>\n",
       "      <td>0.439747</td>\n",
       "      <td>0.000000</td>\n",
       "      <td>144.744273</td>\n",
       "      <td>103.273286</td>\n",
       "      <td>0.321001</td>\n",
       "      <td>0</td>\n",
       "    </tr>\n",
       "    <tr>\n",
       "      <th>3</th>\n",
       "      <td>ID_LehEWHBQ</td>\n",
       "      <td>Ghana</td>\n",
       "      <td>2014</td>\n",
       "      <td>U</td>\n",
       "      <td>0.000000</td>\n",
       "      <td>0.004528</td>\n",
       "      <td>0.009562</td>\n",
       "      <td>0.004075</td>\n",
       "      <td>0.013226</td>\n",
       "      <td>0.968610</td>\n",
       "      <td>77.543652</td>\n",
       "      <td>43.613530</td>\n",
       "      <td>12.698057</td>\n",
       "      <td>2.336585</td>\n",
       "      <td>2.693757</td>\n",
       "      <td>6.832911</td>\n",
       "      <td>597.690289</td>\n",
       "      <td>593.571599</td>\n",
       "      <td>0.580136</td>\n",
       "      <td>1</td>\n",
       "    </tr>\n",
       "    <tr>\n",
       "      <th>4</th>\n",
       "      <td>ID_NYBnpVqJ</td>\n",
       "      <td>Guinea</td>\n",
       "      <td>1999</td>\n",
       "      <td>U</td>\n",
       "      <td>0.301125</td>\n",
       "      <td>0.482007</td>\n",
       "      <td>0.084429</td>\n",
       "      <td>0.029285</td>\n",
       "      <td>0.021303</td>\n",
       "      <td>0.081850</td>\n",
       "      <td>530.726927</td>\n",
       "      <td>0.727751</td>\n",
       "      <td>86.264768</td>\n",
       "      <td>2.658005</td>\n",
       "      <td>2.310007</td>\n",
       "      <td>30.920989</td>\n",
       "      <td>10.503972</td>\n",
       "      <td>12.370302</td>\n",
       "      <td>0.467638</td>\n",
       "      <td>1</td>\n",
       "    </tr>\n",
       "  </tbody>\n",
       "</table>\n",
       "</div>"
      ],
      "text/plain": [
       "            ID       country  year urban_or_rural  ghsl_water_surface  \\\n",
       "0  ID_FozRqdOb         Kenya  2014              R            0.000000   \n",
       "1  ID_FVZwryih          Mali  2012              U            0.044830   \n",
       "2  ID_xcldHqPg  Sierra Leone  2013              R            0.000000   \n",
       "3  ID_LehEWHBQ         Ghana  2014              U            0.000000   \n",
       "4  ID_NYBnpVqJ        Guinea  1999              U            0.301125   \n",
       "\n",
       "   ghsl_built_pre_1975  ghsl_built_1975_to_1990  ghsl_built_1990_to_2000  \\\n",
       "0             0.000168                 0.001421                 0.002692   \n",
       "1             0.099422                 0.312117                 0.017019   \n",
       "2             0.009695                 0.002337                 0.010204   \n",
       "3             0.004528                 0.009562                 0.004075   \n",
       "4             0.482007                 0.084429                 0.029285   \n",
       "\n",
       "   ghsl_built_2000_to_2014  ghsl_not_built_up  ghsl_pop_density  \\\n",
       "0                 0.002674           0.993045         50.425021   \n",
       "1                 0.179486           0.347125        538.662650   \n",
       "2                 0.022974           0.954791         18.041226   \n",
       "3                 0.013226           0.968610         77.543652   \n",
       "4                 0.021303           0.081850        530.726927   \n",
       "\n",
       "   landcover_crops_fraction  landcover_urban_fraction  \\\n",
       "0                 24.253201                  1.445659   \n",
       "1                  5.607670                 67.043337   \n",
       "2                  4.646198                  5.546402   \n",
       "3                 43.613530                 12.698057   \n",
       "4                  0.727751                 86.264768   \n",
       "\n",
       "   landcover_water_permanent_10km_fraction  \\\n",
       "0                                 0.005773   \n",
       "1                                 1.996433   \n",
       "2                                 0.012301   \n",
       "3                                 2.336585   \n",
       "4                                 2.658005   \n",
       "\n",
       "   landcover_water_seasonal_10km_fraction  nighttime_lights  dist_to_capital  \\\n",
       "0                                0.012893          5.049761       422.115084   \n",
       "1                                3.865877         48.076082         9.175895   \n",
       "2                                0.439747          0.000000       144.744273   \n",
       "3                                2.693757          6.832911       597.690289   \n",
       "4                                2.310007         30.920989        10.503972   \n",
       "\n",
       "   dist_to_shoreline    Target  is_urban  \n",
       "0           9.722168  0.287117         0  \n",
       "1         692.426122  0.672988         1  \n",
       "2         103.273286  0.321001         0  \n",
       "3         593.571599  0.580136         1  \n",
       "4          12.370302  0.467638         1  "
      ]
     },
     "execution_count": 19,
     "metadata": {},
     "output_type": "execute_result"
    }
   ],
   "source": [
    "# Turning a categorical column into a numeric feature\n",
    "train['is_urban'] = (train['urban_or_rural'] == 'U').astype(int)\n",
    "test['is_urban'] = (test['urban_or_rural'] == 'U').astype(int)\n",
    "train.head()"
   ]
  },
  {
   "cell_type": "markdown",
   "metadata": {},
   "source": [
    "\n",
    "Note that whenever we add features to train, *we also need to add them to test* otherwise we won't be able to make our predictions.\n",
    "\n",
    "With this extra feature, we can fit a new model:"
   ]
  },
  {
   "cell_type": "code",
   "execution_count": 20,
   "metadata": {},
   "outputs": [
    {
     "data": {
      "text/plain": [
       "0.10209984050879255"
      ]
     },
     "execution_count": 20,
     "metadata": {},
     "output_type": "execute_result"
    }
   ],
   "source": [
    "in_cols.append('is_urban') # Adding the new features to our list of input columns\n",
    "\n",
    "# Replace this with your chosen method for evaluating a model:\n",
    "X, y = train[in_cols], train['Target']\n",
    "X_train, X_test, y_train, y_test = train_test_split(X, y, test_size=0.2, random_state=58)\n",
    "model = RandomForestRegressor()\n",
    "model.fit(X_train, y_train)\n",
    "mean_squared_error(y_test, model.predict(X_test), squared=False)"
   ]
  },
  {
   "cell_type": "markdown",
   "metadata": {},
   "source": [
    "Did your score improve?\n",
    "\n",
    "Next, let's tune our model by adjusting the maximum depth. This is one of many hyperparameters that can be tweaked on a Random Forest model. Here I just try a few randomly chosen values, but you could also use a grid search to try values more methodically."
   ]
  },
  {
   "cell_type": "code",
   "execution_count": 21,
   "metadata": {},
   "outputs": [
    {
     "name": "stdout",
     "output_type": "stream",
     "text": [
      "3 0.10170164526833571\n",
      "5 0.1021497768770867\n",
      "8 0.10160947401767634\n",
      "10 0.10203150335396224\n",
      "14 0.1017614591328629\n",
      "18 0.10178234125429858\n"
     ]
    }
   ],
   "source": [
    "for max_depth in [3, 5, 8, 10, 14, 18]:\n",
    "    model = RandomForestRegressor()\n",
    "    # Again, you van use a better method to evaluate the model here...\n",
    "    model.fit(X_train, y_train)\n",
    "    print(max_depth, mean_squared_error(y_test, model.predict(X_test), squared=False))"
   ]
  },
  {
   "cell_type": "markdown",
   "metadata": {},
   "source": [
    "In this case, it looks like we can improve our performance by specifying a max_depth to limit model complexity.\n",
    "\n",
    "Finally, let's try a different model out of curiosity:"
   ]
  },
  {
   "cell_type": "code",
   "execution_count": 22,
   "metadata": {},
   "outputs": [],
   "source": [
    "from catboost import CatBoostRegressor\n",
    "\n",
    "model = CatBoostRegressor()\n",
    "# Exercise: fit and score the model. Does it beat your other scores? Can you use it to make a submission?"
   ]
  },
  {
   "cell_type": "markdown",
   "metadata": {},
   "source": [
    "Remember, you can ask questions and share ideas in the discussions. \n",
    "\n",
    "### GOOD LUCK!"
   ]
  },
  {
   "cell_type": "code",
   "execution_count": null,
   "metadata": {},
   "outputs": [],
   "source": []
  }
 ],
 "metadata": {
  "kernelspec": {
   "display_name": "Python 3",
   "language": "python",
   "name": "python3"
  },
  "language_info": {
   "codemirror_mode": {
    "name": "ipython",
    "version": 3
   },
   "file_extension": ".py",
   "mimetype": "text/x-python",
   "name": "python",
   "nbconvert_exporter": "python",
   "pygments_lexer": "ipython3",
   "version": "3.6.4"
  }
 },
 "nbformat": 4,
 "nbformat_minor": 4
}
